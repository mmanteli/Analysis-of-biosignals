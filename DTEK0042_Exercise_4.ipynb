{
  "nbformat": 4,
  "nbformat_minor": 0,
  "metadata": {
    "kernelspec": {
      "display_name": "Python 3 (ipykernel)",
      "language": "python",
      "name": "python3"
    },
    "language_info": {
      "codemirror_mode": {
        "name": "ipython",
        "version": 3
      },
      "file_extension": ".py",
      "mimetype": "text/x-python",
      "name": "python",
      "nbconvert_exporter": "python",
      "pygments_lexer": "ipython3",
      "version": "3.7.11"
    },
    "toc": {
      "base_numbering": 1,
      "nav_menu": {},
      "number_sections": true,
      "sideBar": true,
      "skip_h1_title": false,
      "title_cell": "Table of Contents",
      "title_sidebar": "Contents",
      "toc_cell": false,
      "toc_position": {},
      "toc_section_display": true,
      "toc_window_display": false
    },
    "varInspector": {
      "cols": {
        "lenName": 16,
        "lenType": 16,
        "lenVar": 40
      },
      "kernels_config": {
        "python": {
          "delete_cmd_postfix": "",
          "delete_cmd_prefix": "del ",
          "library": "var_list.py",
          "varRefreshCmd": "print(var_dic_list())"
        },
        "r": {
          "delete_cmd_postfix": ") ",
          "delete_cmd_prefix": "rm(",
          "library": "var_list.r",
          "varRefreshCmd": "cat(var_dic_list()) "
        }
      },
      "types_to_exclude": [
        "module",
        "function",
        "builtin_function_or_method",
        "instance",
        "_Feature"
      ],
      "window_display": false
    },
    "colab": {
      "name": "DTEK0042 Exercise 4 FINAL.ipynb",
      "provenance": []
    }
  },
  "cells": [
    {
      "cell_type": "markdown",
      "metadata": {
        "id": "mfI1sEhqe6RB"
      },
      "source": [
        "# DTEK0042 Exercise 4\n",
        "    Group Members:\n",
        "    1. Emilia Kalliokoski\n",
        "    2. Amanda Myntti\n",
        "    3. Lauri Orava"
      ]
    },
    {
      "cell_type": "markdown",
      "metadata": {
        "id": "XutkOg0Ce6RH"
      },
      "source": [
        "*** Note for Google Colab Users ***\n",
        "     Because Google Colab doesn't have a button to convert your notebook to .html format here is a quick work around:\n",
        "   1. open a new google colab notebook\n",
        "   2. in the files section in google colab, upload the .ipynb file you want to be converted to .html\n",
        "   3. in your new open notebook run this command in an empty cell: !jupyter nbconvert --to html YourFileName.ipynb\n",
        "   4. after the command is finished running refresh the page\n",
        "   5. In your files section you should see your original .ipynb file that you uploaded and then a .html file of that same notebook.\n",
        "   6. download the .html file and you're good to go!"
      ]
    },
    {
      "cell_type": "markdown",
      "metadata": {
        "id": "sElhy_58e6RI"
      },
      "source": [
        "In this exercise, you are required to analyze a SCG signal step-by-step as outlined below.  The deliverables for this exercise are a jupyter notebook and a .html file exported form the notebook. The notebook should includes your code, observations, graphs, and conclusions made upon analyzing the given SCG signals. Please provide caption and description for every figure. "
      ]
    },
    {
      "cell_type": "markdown",
      "metadata": {
        "id": "t-rXZKCze6RI"
      },
      "source": [
        "## 1- library Imports"
      ]
    },
    {
      "cell_type": "code",
      "metadata": {
        "ExecuteTime": {
          "end_time": "2021-10-06T13:40:56.579164Z",
          "start_time": "2021-10-06T13:40:56.573277Z"
        },
        "id": "1AbPyZ4ve6RJ"
      },
      "source": [
        "#scipy imports\n",
        "import scipy \n",
        "from scipy import stats\n",
        "from scipy.signal import butter, filtfilt, freqz, welch\n",
        "\n",
        "#numpy imports\n",
        "import numpy as np\n",
        "\n",
        "#matplotlib imports\n",
        "import matplotlib.pyplot as plt\n",
        "\n",
        "#sklean imports\n",
        "from sklearn.decomposition import PCA\n",
        "from sklearn import preprocessing as prep\n",
        "#other imports\n",
        "import glob\n",
        "import pandas"
      ],
      "execution_count": 13,
      "outputs": []
    },
    {
      "cell_type": "markdown",
      "metadata": {
        "id": "AoAISf4Ge6RK"
      },
      "source": [
        "# Data Import \n",
        "* Load the .txt files of SCG data that are stored in the folder named “dataset” into your python environment.  \n",
        "* For each .txt data file, select the 3rd column which contains the Z-axis of the SCG signals. \n",
        "* Note: the sampling frequency of this signal is 200 Hz. \n",
        "\n",
        "        Hint:  \n",
        "        * to automate the loading process you can get a list of all data file paths using glob package and subsequently load the files in a for loop. \n",
        "        \n",
        "        * dataFiles = glob.glob(path_to_dataset) to get a list of file paths of \"dataset\\xxdata.txt\"\n",
        "        \n",
        "         then load the paths one by one in a loop"
      ]
    },
    {
      "cell_type": "code",
      "metadata": {
        "colab": {
          "base_uri": "https://localhost:8080/"
        },
        "id": "flE6Dx79PNvb",
        "outputId": "b39899ba-ea90-4d9c-dc90-08289ce6dfaa"
      },
      "source": [
        "from google.colab import drive\n",
        "drive.mount('/content/drive')"
      ],
      "execution_count": 2,
      "outputs": [
        {
          "output_type": "stream",
          "name": "stdout",
          "text": [
            "Mounted at /content/drive\n"
          ]
        }
      ]
    },
    {
      "cell_type": "code",
      "metadata": {
        "colab": {
          "base_uri": "https://localhost:8080/"
        },
        "id": "gFxZ_vk0Pgz_",
        "outputId": "b8516d67-1adf-4f42-ed5a-796ed2214741"
      },
      "source": [
        "# check path\n",
        "! ls drive/MyDrive/Notebooks/Data/dataset/"
      ],
      "execution_count": 3,
      "outputs": [
        {
          "output_type": "stream",
          "name": "stdout",
          "text": [
            "Noisy_data_1.txt  Noisy_data_3.txt  Normal_data_1.txt  Normal_data_3.txt\n",
            "Noisy_data_2.txt  Noisy_data_4.txt  Normal_data_2.txt  Normal_data_4.txt\n"
          ]
        }
      ]
    },
    {
      "cell_type": "code",
      "metadata": {
        "id": "Xre5kjw-QzLc"
      },
      "source": [
        "PATH = \"drive/MyDrive/Notebooks/Data/dataset/\"\n",
        "\n",
        "dataFiles = glob.glob(PATH+\"*.txt\")"
      ],
      "execution_count": 4,
      "outputs": []
    },
    {
      "cell_type": "code",
      "metadata": {
        "id": "LjQnugPCRTLR"
      },
      "source": [
        "data = {}\n",
        "for i, path in enumerate(dataFiles):\n",
        "  label = path.split(\"/\")[-1]\n",
        "  data[label] = np.loadtxt(path, delimiter=\" \")[:,2]\n",
        "\n",
        "fs = 200.0"
      ],
      "execution_count": 5,
      "outputs": []
    },
    {
      "cell_type": "markdown",
      "metadata": {
        "id": "ecA0qHXze6RM"
      },
      "source": [
        "# Noisy Vs Normal Plotting\n",
        "\n",
        "* Plot the z-axis SCG signal from the file \"Noisy_data_1.txt\" and plot the z-axis SCG signal from the file \"Normal_data_1.txt\" \n",
        "* Describe your observations and how the plots differ from one another.\n"
      ]
    },
    {
      "cell_type": "code",
      "metadata": {
        "colab": {
          "base_uri": "https://localhost:8080/",
          "height": 573
        },
        "id": "D01OH6see6RN",
        "outputId": "0f3ba4e0-15c8-424a-d14f-34947728711c"
      },
      "source": [
        "# make time interval array\n",
        "x_noisy = np.arange(0,len(data['Noisy_data_1.txt'])*1/fs, 1/fs)\n",
        "x_normal = np.arange(0,len(data['Normal_data_1.txt'])*1/fs, 1/fs)\n",
        "\n",
        "plt.plot(x_noisy, data['Noisy_data_1.txt'])\n",
        "plt.title(\"SCG, noisy data 1\")\n",
        "plt.xlabel(\"Time\")\n",
        "plt.ylabel(\"Signal\")\n",
        "plt.show()\n",
        "plt.close()\n",
        "plt.plot(x_normal, data['Normal_data_1.txt'])\n",
        "plt.title(\"SCG, normal data 1\")\n",
        "plt.xlabel(\"Time\")\n",
        "plt.ylabel(\"Signal\")\n",
        "plt.show()\n"
      ],
      "execution_count": 6,
      "outputs": [
        {
          "output_type": "display_data",
          "data": {
            "image/png": "[encoded data removed]",
            "text/plain": [
              "<Figure size 432x288 with 1 Axes>"
            ]
          },
          "metadata": {
            "needs_background": "light"
          }
        },
        {
          "output_type": "display_data",
          "data": {
            "image/png": "[encoded data removed]",
            "text/plain": [
              "<Figure size 432x288 with 1 Axes>"
            ]
          },
          "metadata": {
            "needs_background": "light"
          }
        }
      ]
    },
    {
      "cell_type": "markdown",
      "metadata": {
        "id": "mRaB6eIWe6RN"
      },
      "source": [
        "There are a few key differences:\n",
        "- Heart cycle can be easily detected form the normal data, unlike form the noisy data which has a lot of high level noise.\n",
        "- The noisy data is less centered around one value, and moves around a bit.\n",
        "- The noisy data is smaller than the normal data, noisy data was measured for 30s and normal for 60s\n",
        "\n",
        "Despite these, if we plot all of the data, it is easy to think that the signals still look really similar. However, if we plot only a small section of the signal (first 2000 data points, or 10s), we see that the noise affects the signal greatly:\n",
        "\n",
        "![image.png](data:image/png;base64,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)\n",
        "\n",
        "![image.png](data:image/png;base64,iVBORw0KGgoAAAANSUhEUgAAAYgAAAEWCAYAAAB8LwAVAAAgAElEQVR4nO2deZwUxdmAn5nZXWC57xtXUQFFQSWoRFG8UDQazWkuY6LGT000l8HEL1ETjUaNOUw0Rv00hybxPvDAA0HjiSc3iIhyCMt9w+5Of39U90xPdXVP98x0NTtbz++3MNPd01XdXV1vvUe9BQaDwWAwGAwGg8FgMBgMBoPBYDAYDAaDwWAwGAwGg8FgMBgMBoPBYDCE5mhgWYTjXwDOiakuhjZIOukKGNo8RwAvAxuBdcB/gU+59vcH7gBWApuB+cCVQEd7fwq4CHgP2AZ8gugov6yh7q2ZD4Hjyvj9FxHPbRvifhuqECMgDEnSBXgc+CPQAxiI6Px32vt7AK8AHYDDgc7A8UA3YKh9zB+AS4AfAj3tc1wOnKjlCgqpSaDMpFgH/A64NumKGAyG6mQMsCFg/6+AWfgPZPYFWuzzlEoDYAFnAR8Ba4Cfufa3Q3SEK+y/39nbIG8C+glCc/k7cAVwH/APhMYzy67nZcBq4GPgBNf5zwbm2cd+AHzHta+Yiel4hEa1EbgZmE7exDQUeB5Ya1/TPxGCFbueWWA7sAW41N5+n30dG4EZwP4BZTucg9EgDAZDDHRBdGB3AycB3aX9ryI0Cj/OR5hKysEREH9FaCqjEBrMCHv/VXY9+gC9EWaVX9r7jgaagesQQqMDQkDsACYiNIq/AUsQQqcWONf+7nAyojNPAUchTDYHu87vJyB6IYTK5+3zft+uiyMg9kYIkHZ2vWcghJuDysT0LYSW5gjFd3zKdmMEhMFgiI0RwF2IjrAZeBToa+9bhBACflyO6LzdLENoJTuAPUKU7wiIQa5tr5P3YSwGJrn2TSQvlI4GdgHtXfuvAJ5xff8MYpSesb93tsvrhpqHgYtd5/cTEN+g8NpT9rF+TurPAm+7vhfzQXSz69k14BgwAqKqMT4IQ9LMA76J6KBHAgPIj3TXIpzUfqj2D0KMrtshOs2wfOL6vA3oZH8eACx17Vtqb3NoRAgjN6tcn7cjTDwtru+4zn8SoqNfhxBsk+z6F2MAwlzlYEnf+wL/ApYDmxAmr6DzZhD+hMX28Y4QDFMXQ5ViBIRhd2I+QpsYaX9/Fjgd/3b6PEIglOODKMYKCjWRIfY2B6uMc7cDHgBuQHTo3YAnCCfYVgKDXd9T0vdr7LodgDDlfU06r1zvrwCnIbSKrgjNCqIJWUOVYQSEIUmGI6KPHPPOYOBM8qaT3yI6t7vJd9ID7e0HAguAvyBGyscjfAAZYJxUzhWUbga5F2HK6o0YTf8cMRqvBHUIIdGIMK+dRKEDO4gpCCfyGQhfx/eAfq79nRGmrY2Ie/Zj6fergL2k43citLJ6hIAJIoMwrdUg+pH2CF+IoYowAsKQJJuBQ4HXgK0IwTAbITRAmF3GAU32MZuB5xCd3vv2MRciQl1/ax+/DOFE/hIiKgmE4PlviXX8FTATMc9iFvCWva0SbEZ07P8B1iNG8Y+G/O0a4AsIs9BaYB8Kr/FKhLN7I0KYPCj9/tcIwbcB+BHCmb4UYZKai9e3I/N1hLnsFuBI+/NfQ9bdYDAYdhveQcyRMBgMBoPBYDAYDAaDwWAwGAwGg8FgMBgMCVM1Mc49e/a0Ghoaih9oMBgMhhxvvvnmGkQYt4eqyT7Z0NDAzJkzk66GwWAwtCpSqdRSv31mHoTBYDAYlBgBYTAYDAYlRkAYDAaDQUmcAuJOxAIps13beiBSIS+y/5fz/wOMRqwiNgeR3uBLMdbRYDAYDD7EKSDuwrvs42RELp197P8nK363DZHrfn/797/DP3e+wWAwGGIiTgExA5E8zc1piMyc2P9/VvG7hQgNA0Ra5dX4hGAZDAaDIT50h7n2ReSxB7FAS9+AYwHGIlIiL/bZf579R2NjYyXqZzAYDAabJJ3UFsGLrfRHLK5+NmKBdRW3IRaLGdO7t1EyDAY/Hnt3BRu3NyVdDUMrQ7eAWEV+icj+CPORii6IHPY/o3heeoPBEMAHjVv47r1v84N/v5N0VQytDN0C4lHgLPvzWcAjimPqgIcQC5jcr6leBkPVsr1JLIe9fMP2IkcaDIXEKSDuRYSrDkOs8vVtxOpXxyOc0MfZ30GYiW63P38RGI9YyP4d+290jPU0GAwGg4I4ndRn+mw/VrFtJnCO/fkfVG7NX4OhzWPZnr5Uqmpycxo0YWZSGwxtBCMeDFExAsJgMBgMSoyAMBgMBoMSIyAMhjaCcUEYomIEhMFQ5VhB01ENhgCMgDAYDAaDEiMgDIY2gk4T067mLJc/PIvVm3foK9RQcYyAMBiqHCsw5Vk8PD9/Ff949SOufHSu9rINlcMICIOhjZDSOBOixU6vmYRwMlQOIyAMhionCSd11i7UzN6Oh13NfgmuK4sREAZDG0FnX50TEPqKbDO88/EG9r38SV5Y4JcMu3IYAWEwVDlJGnnSRoOoODM/FAt1Tl8Y/yJpRkAYDIaK42gQaSMfKo5jttNhOjQCwmBoI+jsq7O2idz4ICqPzjtqBITBUOVYCXipnRKNfKg8Ou+pERAGQ5WTTaC3zpuYjISICx2CP04BcSdizenZrm09gGcQK8o9A3T3+e1TwAbg8RjrZzC0ERLQIEwUU2w4Qjfbyn0QdwEnStsmA88B+9j/T/b57fXA1+OrmsHQdtDRkfiVaTSIyuPcUh2TEOMUEDOAddK204C77c93A5/1+e1zwOaY6mWoAC+/v4Y/TXs/6WoYQpDN6h/NO9aPtDFiVxznOepwLcW5JrWKvsBK+/Mn9vdyOM/+o7Ex/phgQ56v3P4aABdO2DvhmhiKscOedVtXo6+3NjOpY0TjPdUtINxYlG8cvc3+o3fv3ibpi8GgYNP2JgC6tNf3upuXMX503GPdCuAqoL/9uT/CiW2oENt2NScS0mjYvdmysxmA+jp9AsLoDfGh08SkW0A8Cpxlfz4LeERz+VXLx+u2sd/Pn+be1z9OuiqG3Qwzq7m6yFuYWreT+l7gFWAYsAz4NnAtcDwizPU4+zvAGOB2129fBO4DjrV/OzHGelYFS9ZsBWDKrBVay21JIkTGEAlnpKnzSeUibUzzqDhO2vbW7qQ+02f7sYptM4FzXN+PrHx1qpsae3jY3KL3jWxqyZJJZ7SW2dr5oHELd/53CVeeOpKMhmF9En10fu0JIyEqjU7ha4LQqoSajHiUukf0TS168tJXExf88y3+8epHLPhEbyS3Gc0bomIERJXgOKd19wG6NZZqIJWbCavp3iXUNlxFGypIXjdr3T4Ig0Z22SP52oxeT6R5/6NjK3vaOs9cKiY9xYmyjA8iNoyJyRAZx9RTo3nqqgmrjY6TfqJF071L4hGZgKn4yDmpNZRlBESV4OTfT2uOZTRBTNHJCQhNNy+XOM/02tWB0SAMUUlqDWAddtBqw4lc0qV9JfmETPuoPMYHYYhMUq+hsTBFx1Hy9GkQWoopwGgr8ZHKp3ONHSMgqoSkzAhGQERHZz5/SMZJnSvbtI+Ko3OGiREQVYLT2ejuBLSFalYRad1hrgmg05Ha1shHMRkTkyEkTlvRnV7ZdADRcXwQup3UWjEmptjQaGEyAqJaSMpJnTVhTJFxIs2qWYMwxEdK41tuBESVkDWhjK0Gx0mtS0AkqUAYIRgfJszVUAK650GYDiAqmdw8CD3lOeGQOs2Pjp9l47YmbWW2FYyJqQpo3LyThav0JWNLSoMw8iE6uk1MSTwjp8h123ZpKa9x807tyQ+TxjipWzHjfzONE26aoa28pDpqIx+ikzMx6XJSaylFKlOzT+yYG15g4u/0vW9J4miCRoNoxWxvatFantPX6F41zJiYopNJ650HkSS6LnGzvaxqW0DnKx6ngLgTseb0bNe2HsAziBXlngG6+/z2LPuYReSXKDUEkI9i0hzm2gY6uUqTagPJ+kyz0EArd1LfBZwobZsMPAfsY/8/WfG7HsAvgEOBsfZnP0FicEjKxGQkRGQcJ7U+E5ORENVIa8/FNANYJ207Dbjb/nw38FnF7yYitIt1wHr7syxoDBKJOan1FlcVZBJyUutsGm0hSd+0+at5+6P12st17mxrX5NaRV9gpf35E/u7zEDgY9f3ZfY2FefZfzQ2Nlaoiq2TXKoN44PY7Unl5kEkW484aQvN4uy73gDgw2tPTqT8ap8HYVH+APQ2YAwwpnfv3uXXKAb0pXQ2PojWgu5cTMYMWF3klxdu3SYmFauA/vbn/ggntsxyYLDr+yB7W6tEV76dXDFGg9jtSSzdt8a2YVpF/FSjBvEo+aiks4BHFMc8DZyAcEx3tz8/raV2MdCsLadzMq+kkQ/RyWU61ZzuWyemXcSHc29b+zyIe4FXgGEIP8K3gWuB4xHhq8fZ30GYiW63P68Dfgm8Yf9dhdfZ3WrQNcLOz4MwJqbWQjU7cqv52pLGubet3Ul9ps/2YxXbZgLnuL7faf+1enR1oGbJ0daHNg0iwUdkBhCVJ39Pq88H0eao5nw7UN2ROHGj69YlIcQTa49toEHmTExV6INoc+hqrjubRWpQ/cn64r3CbNZi3VY9Cd+0o30ehL7GkVQ33RYiw3SWbAREzOhqR86EndqM3kca94Dt5mnvc/Avn+GTjTviLSgB9GkQzv8au5aEOtBqTl+SL9sJc40fIyBiRtdIo0fHOgDa1eh+pPFe37PzVgGwalMVCghtEqL6zS4Oun1+SaBzZrwREDGj2xGpu9nGrUG8t2xjvAXYvLRoDT+6710tZen2CWj0aXrL1Iz2eUcJoEtLAiMgYkebTVRj6FtBuZrKi9u38rU7XuP+N5fFW4iEbju2ztKSC5rQJSCSkxA6864ZAREz1W5F0PWi6E4hooNqbhtJOXGzupZxTVCDyGpMm2AERMzony2reVRaJRpEEuhrG452qa9tVHsUk04zj4zOxJxGQMSMtmR9GmOjC8utLgdoNXaiiUbcaC5PV8edpIlJl58FjICIHX2dQEI+CL3FxY5O56PzzL5w68t88S+vxFeO9L8Oqt3kaWkyZanQmTVB93oQbQ59TupkqLZsrqLT1mvPeuPDeBedSUK7TCCBLKDPB7E7OKl1YDSImNEX5upMnjE+iHKoxlF2Mqk2kulAdc26T1ZAiP+ND6IK0D5b1piYykLH/cvPWaneMNekyrz84Vlaykl0HkTWMTGZKKZWj7aF6avc5qsrzFXH9WgX5jkTU7WJcy9bd7ZoKSfRXExmHoQhKkk4IpMpsPWTzZkD9ZCI5pBQu9BlikxWg9BXlhEQMaM7u6TuF7P6nNQ6CtFYFnqTu+XKrPKRg3FSx8vFwGxgDnCJYn934CHgPeB1YKS+qlUW3RPlqtVJreu6dJSj+1lZiamXaB+xpDSpELuDgKjW9SBGAucCY4FRwCnA3tIxPwXeAQ4EvgH8XmcFK4kF7Ghq4aZnFrKzOUb7aJX7IPRl6Yy/DN3aXhuQCznSukxMu8E8CB0DjCQExAjgNWAb0AxMB86QjtkPeN7+PB9oAPrqqmC5fLxuW+5z1rL464wP+P1zi/j7K0tjKzPXWKo0ikm3OSbWMmIvQSovgaipXEmac6To80EkH+aqYzCThICYDRwJ9ATqgUnAYOmYd8kLjbHAHsAgxbnOQ6xnPbOxsTGWypaCeyq8ZeVXe9u+Kz4NwhnR6O98qsf0I8rRUIbmqKK2tORoNUW7+aGz/SQxk3oecB0wFdiKMCXJPee1CLPSO8As4G3FMQC32X/07t17t/GKpV3DGMuySNt6b5x5YpJIyCbK01OOrqgRLfMgNJZVUK7WmdTJvI579+mkpZwko5ice1utGgTAHcAhwHhgPbBQ2r8JOBsYjfBB9AY+0FnBcnCruRZQYwuIOOdEyC//n6a9T8PkKbHPw9DXceuNBosT7WGumqOmVIX//tlFNEyeElsxDT3rARi7Z4/YynCT6JySnImpOn0QAH3s/4cgTEn3SPu7AXX253OAGQih0eqwLMjYAqI5TgEh/f/bZ4TMjTu7pa6RYlVpEFUWGqxCvsSbnl1ob4+5PVaZRqvCKVpHHZJK1vcAwgfRBFwIbADOt/fdinBk3424F3OAbydQx5JJu0IpspaVMznFamKy5P/jiZR5adEatjflrX36XpRq9EFoKIzk8nSpyFqQidFNoG/AkqQPQp85OSkBcaRi262uz68A+2qqS6wIDUJ8ls09y9ZvY/3WJg4Y1LUSJbn+zVPphvy1O14rLFVb/v0Yz10QVKAhiklzVFESPg+/+5i1LDIxOJKd+Q+6BiylvleLG7fQkrXYt2/nksvWOcAwM6ljwP1yZC2LTFrcZnmK/BHXTeMzN79UsG3j9iY27WgqoUzpu8/2SmNZsGLD9lZtOmhyBbVrmQehef3w3cmi5e5YN25vYnMJbT2Q3XxezrE3TueEm2aUV7b9fzX7IKoa+bk5KnWYBzrqyqkceMXU6GXmyi7sfOJuRItWb2bctc9z+4tLYi0nzutobnFpEDpmUuc0CD1YPtplrGX6FOaeYDbqyqmMvuqZypZb0bP5s3uEucZflhEQMeB+cG4ndZxLBfrl25m+MN75IR+uFZMCX168JtZy4nwhm9yqnYaXLpuX5vEX5sKyoGHyFK6eMjf+sny2y8+x3Hfi768upWHyFLbubBblarqlOpf9lMkLfKNBtEqykokprTGKSW4zD729PLYyVeW1xnKaCjSI+HGHuTb7pOZcvmE7J//hRRo37yy7PLnT/GvM2p6qTIdKC/rbZiwGYM2WnXa5rd8nVgyjQbRy3C+BhZ55EH6ndjeipWu38tcZlZlOkpLMZnG31ThfSLcGocN04E62tspHANz50hLmrNjEwxUQ8GHE38NvL+fNpevKLiubtbjpmYWs37ZLWWKlcxh9vG47kHdSO+Xd89pHzFmxsbKFuVAJohcXNTJ1ziexldnUkuWGpxewxdGW7O0PvrWMmR+W/+xUmDWpY8DddPzCXCs90vEPZcx//9odr/Hxuu18/pBBdO9YRyWohmyucmqUuHGKs7DI+CQPcupRidxCYa7pkn+/A8CH156s3P/R2m1s2L6LAwd1CzzPy4vX8vvnFvnuj0sAO7fJOf1PHxIry/ldT7nIA5aZH67j63e8HmuZD729nJunvZ/fYNfhB/95N7ZyjQYRA5ZV2OE4AsKtQdz35rKYyi787m7I2+zVttyCauP2JjZuix5Jknsh7VbqTlAYB3FqEAU+o/iKcZWX1yDSPm/gyo2FI+MyS8yV5xD1mY+/fhqn3vzfosepMhbLUX1x4NymJJzUlmXx+Vtfib1MJ6ebToyAiIHCziz/xd0xr960o6Jl+tkl3S9nSiGoRl05lVFXhYuaalLYy51TLW7cyiPvxOfviNO27NZOtKfaUBS3fVcLT84WpoqKiAdF1FTYZx6VKx/zOsDdtzSuyaI5E5M2H4RerVNV0O7gpN6MSHEh/znbDQrczzFrwc8fmQ3E7aRWn9u9NTdhr8RquE0x+Rcyv/+5easLjn9l8VoaJk9h0arNpRXoIs6XUI46i5tc5l1L/Sy27mrOfXYm5S9bv42GyVN4bt6qyOVFuaaN28ubl/CRpEmKa4y/M5VNTHGjW+sEb1tx12FURSbbeikmIDoDXRR/znaDAvmF2Gqn+c7GaOv2m53rLidn6iqxcHVoX37bLkkFfvy9FQC8+sHaksorLEVDBBi6fBB5f5FqRJ1VCOK3PtoAlBeVFmZ0PeW9lYH7J940g9Wbw2u/FlZBx6Zqe9c8Ma/g+6PvruCcu98IXYYoJ1+eDmQTkw7kcpxvvTrVMXJgMgJCpg8iwZ7zZ1Agh7k6xDsPIv+/e+6DqvNbt3VXSWUoOzPXpucXFGoQlbQLx7mCV2HUmfg8Y2EjT84K7izLLs9Sp/l43NVJO/fQCYety0S3CjvX1BLiQTjarsPMD9fxgMtftmDV5kiRVbIGoXoHbpMi675379s8K2mjxcvx+lniYsp7K5nhese0JZKUv9sXm7UKlxioJGGjmE4FbgQGAKsRC/jMA/aPpVatHD+ThfvleHdZ5ULwnpm7im2uBHpn3fm6q/x8mZ/Yfo8rH5vDfeePi1xOwchWsV/WIJzFWyrx0sb5Dqqe1zfujC8iJR/F5O08azIprno8b8d3NAjH/1MTIdPd9l0tvLio0ZPAMQi5nynX+WpZ8NbS9QXf48B9T4N4f/UWdja3sP+A0kfcF97zVsH3pDIaW7ntVmxLrYYVEL8EDgOeBQ4CJgBfi6dKrZ9C+2T+yw5XhMezCltyKarqrGUbOfdvM13lFWdXmKGkAtXoL6jOOQ2ihOtau2UndTX50XK88xPUGl+l2dHUwsbtTa55ELL5xfsb5713JvPVRNAgrnh0Dv+e+THD+3W2zx9CQERwi+9qzrJmy04GdOvge4wFfOX2fILHuCJxsiE1iON+Ox2orODX5/dQm4+zWatC0W5ewra2JmCtfXwamAaMiaVGVYCfU67YkqOlmKCcGaSq8uS6OJQ62iiYL5A7v//x+VDY6Bzyq2cZd+3zue/anNTxFcPZ//cGh17zXH60axXeU9Wzkk1MNREe3tJ1WwHYvEM4vcOY6UYOLO5adKr5kwfeY9y1z7Ojyb9dy53a/z482+fI8vDzwelAWxSTXK6r/LhMTGEFxAagE2Lhnn8ilgPdGkuNqgA/AVHsIbqjnMZe/azymKsem1uwMtd2z8vp76QOWw8/3D4Ip2MLGpWqIp2c3Dlhsng6HZs4R3xvoVvIxVXMS4vW8IrtrHdfy2PvrnDVQyXMC2cIl/LknPOG0SCOHtan6DEOjha8sym8VvBKBQIWgrAsfU7jXJk+QumvMz6gYfKUQAEaBc/zcz3XuExMYQXEacB24PvAU8Bi4DPxVKn1436MWcti1GAx+7R353aBv9vlmmew2i8Fw39FHp3/zPwYoKTG175WPPbZy6P5QaJqOCon9V12/VdFnAdiAXNXbGLiTTMqniK68AW3lB3Mh2u2cswNLxTkRvrPzI85z2XeC8KJ6ILCeRD/euOj3PZn563mjD8XTkZLSf9HwTEXRREQ7kGK37wW54i88EpoCO2D7hG932vxF9v5/qmrn63IRFL5uj7ZtINjbniBrbtaChYpqyRhBcRWoAVoRqz09geEyalULgZmI1aLu0SxvyvwGPCufczZZZRVFhu3NXHtk/OVk8T8KJhJDbSzbenO5Cc/7p8Zfnb1pfe/B3g7bbkRvbx4bW5S3nEjxOhw0gH9Abh6SmF4YTFUJoqglzHvpM4flC5xYZesZXHD1AUsWLWZf7/xcbQfF0Get9Kk8NHc8dISPlizlSdn5yOMLr3/PabODTcvwa20uedBuLW57937di6cVfU7iGYCy/uA7HJD/NidPPDif70T6vxB55Xbx4UThhavRBkIv466Qn6JEVWs3bKT65+eH2pQVEzwbt7RzD9eXVr0PP+Z+TFvBORUkudRrdq0kw/WCENOTBam0ALiDGARsJHyJ8qNBM4FxgKjgFOAvaVjLgTm2vuPRkRQVSZ5UER+8/R8bp2+uGAECGJlqPeWbVD+ptBkYYVumO7olbDIzilVU3Xy7HRuXwvkOyUn6ZcfzS1ZHnt3Ra6DV4e5hnFS57fl8lJFlBCWJV5agF9FFGxhzu3+LPt1Ko17HkSx99oRsvM/CTfZ8M2l6/lorTRZTSo3iCiTOdMhZi83S6OK+rrw6d9KMRVZlr8QvWHqwtDn+dlDs/nTtMW8uKh4uvyWEEEfYa7k0vvf4wu3vuIbXh00SE3aB/EbRKhrV8qfKDcCeA3YhtBIpiMEkBvLLiOF8H2ss4/VjvNSbXM5mC3L4tgbp/vmppE7HPdLV0n76CcbvWaaVxZ7FTun7k4TyloWS9ZsZduu4Fv61xeX8N173+ZR206u6tQDBYT9v9sE4ajCUaOFspYV20x0eR7EN1xhwjKVeHzOfbSsELmW7N3/srWmdz/eEJhH6XO3vMz466eJn5agQTidUFA7bWrO8vG6ba72BEvWbFX+RtbGorT/Uu511vJvW7dOX6zcvmLDdo+p1vHtec3+3nP7pQ9xDzSiXPf//PMtXl+yji07mwsmJQYJCL+kj+USVkCsQsx7qASzEWtS9wTqgUnAYOmYmxGCZAUwC2GSUt2d84CZwMzGxngWxnEmJrlj/O8rYgqSOxz3imWV7OMO+/Vznm1ep7WrPnYbemvpBibc8AKLG4PjDJZvECNRJ/2C6sVrDhg9qTUI77aw6FikxbJErLxM+e9f/gRuQTeif/A4Sy723WUbS8ij5AikEBpES154+XHjMws58jfT2GxroG8uXc+EG15QmlFk7blYFeauyBsmSnnaFlbktjXu2uf5zt/flM5jIz0AlfkxTBr/qHVq3LyTk34/g7FX59/xoHctaSf1TODfwJmI0b7zVwrzgOuAqQiH9zsI/4abifb2AcBohMBQvUm3IcJtx/Tu3bvE6gTjxOJf99R8GiZPIZu1ePtjtWkJ4PYXP+DLt72a+57NFqrZlY6zD9Mu5I51yRpvB+jmzaXraJg8hbdte3jQingzXZOgQDhzc3WTInAgXLoPlQM7a0V/8cNS6IMILuQXj87h//5buOBOw+QpNEyewryVhVbXG55eQMPkKZ6O2WkPlmXxqYbuZdQ8mLyTWnxXPb+N25sKouKcuoVpp86gaXGjaE+q96JJKrNYX+rO5VSyiamEdiKvvOiULb9fqlF8GJ+YXKUrHp0TePxbH63PrXXhsCtAg4hr7BRWQHRBmIROQEQvfQbhOyiVO4BDgPHAekA2Dp4NPIi4r+8DS4DhZZRXlNc+WMvEm2Z4VM1aW4PYYYfyCXXS/2nIaQMskDQI/REfTscQdhKUk3Rvjj2aq4mwZOp7dmTUlPdW5u6F5eqgZtn7g06lGsFbVvhMoIsbt3D09dNC+RIuf3gWv31mQUE5xbjr5Q+V219ZvJYf/Pud3CpnTu7+hau2FGggjs3aorjNP0p7cc+gv+LRObz0vlgG1kmtIhf1zj5ycOMAACAASURBVMcbcmnFHZpcdQtL0Ajao0EU0Wbc24+6/gXmfxLN1Wm5yghDseVXZROgnC0A4O5XCjWnBxSp/OV3x68NOUyd6w1oCWoKcWXJDSsgzlb8fauMcp1g6yEITeQeaf9HwLH2577AMKAyS6H58ItH57Bg1WY+kMwu8sSkYiMU+YW2JNu56rfrS8yNBHDtU/OLHpMTECHVUPm4KEn+HFuonI4ACp3i8rkWrdrMLS+IjlU1GSzrY/oBsRbFDU8vyHUut7/4AR+u3cb430zLrVXsxz9e/YhpC6KZJ/1ugwU8+PZyrnmi8Jnc8sL7Bd9X2L4jy4J/Folu8et7Gzfv5NdPzss921nLNhaMglUdkNwpX/ekt+3cb3duUQSTU0fVAEQWgM5Xv+tyb1++YTt/mqb2G/hiWZFG037Lr0pW2RwqDUJ2xP/wvnc9xwT5D7bvauFXUoBKU7P3ImojpFmpFGFDCv6g2LYRYXp6pIRyH0D4IJoQEUsbgPPtfbciUnvchfA/pICfAGtKKCc0ToN4YtZK9hvQhaaWLE/MWuldMrGIqUP1QjQXWdLy+qkLuOb0A0qqd5g1i51OZM6KcKMxOSLCyf8TxkmsygThnM7d72/Ytots1uKx91ZwyoED+NwtL7NpRzPfOqIhZ9JyE2RuOOvO1/lgzVbOPHQIA7t1yP1+264Wbp2+mB+eMKxovfPlhD40Uh1Vr7aFlRMWfvh11JPs9aq37Gjm8pP34zM3v1S0fp7Bi89IO5u1mDY/fLK85+f7h/p6tE4nIs6nLakGWFGwpN9YVmlpKN61zWXyT1WpQlS+AbneKs3D4fYXP+D2lwoFlepdC7qOuCwTYQVEe4SJ5z77++cQZp9RiLxMqrkMQRyp2Har6/MKhDlLG87LcvO09xm3d0/eWLKem55dyN59OhUeZwWrsN6GbxXYYVXvRVwRCPkyLbbvavHYyP2Qa5Oxlz0L44zL+CyR1tySLbAvf7xuOw++vZwf3fcuqzbtKIgSUwsI/zKXbRBmklr7dzWuOsgv9JadzWzZ0Uy/ru2V5/J70dwZcH3X3nBtlk0rKk0mzDu9wSdiyRkY/PO1j0J3DsXmzLg5/x9eDdAPJ/Fki2KijNx5Ot/86lxuiLEc5vraknUctlfPUL9d3LiFvXp1JJVK5Rzw8mBJpQmofAOPSWnTgzQI1e9V9yfIxBuX5TqsielAhCD4o/13HEJgnI7mjlwHm3fkw8tk80+xl1F+IbJW8Xw7zszmODn7Lv/QTRl5pJKJMHdBqUEgYtBP/kN+lGtZVm5eg1sLsqy838dNGLuyUz23gJHr/Jk/vqSM/sqXo+bxIuskiPLzv5bnajz8zgr5cCxgaO+Ogee8/ukFgfsBVhbRQnLlyYN5v+NCnc2Lqnk0SUKj2Kxu1Yp0QbgTOoIdxeQqMkpywGNvnM6t0wst2fJQRdWZq96LdZKgC9K+wwqDYAGRrA+iO2I+gkNHoAci+ijeWUWacN/fFP5rGRQzMclhppZVOHqwFO01rAq890+fCHWcilc/8J+hCSIS597XP6Jh8hQ2bCsUirkophCN0G/CzltStJP8ojlntiy1BuF+N1T7xTGWZ7/88i1ZExzaG+ZF8zvE3Qm8vDhvEe1Wr57jWWrEjUzYSVLyvdi6s1kZgVNqZ6NqH/Km2cs30TB5Ci+/Hy4RQ7GayFcua/gdajOhynHwLG6VEj6uhslTmPLeSqVvIMzAqWPABEGVn0U+58SbZgQ6tpOOYvoNIuz0/xC+gbeB6xGCQp1VrpUh318/x2zWijbCmrdyU0HSOdVoodgLed7fZnLHS0tKnijmFXLq4+55TeQFkqMyHKdxmGygSvMQ0LFd4Yu6symbG1WLjjI/slR1eO5b1JK12Li9iaOunybySeUcnwoBEXXGdqSjC3Frj26H7UFDuvmWFsY85KSo9iNsDLzcga/ZspN7X//Ic9yEG18Id0KJYqvRAbmZyap091HOeeE/3+IviolvFoXt20lzE1boyaagH9/3Hhf8U5jbHnp7ObtaSku8N7RPR89EvQ8a/cPN3QLi2BtfYEGRZXvjMjGF9UHcATyBSI8B8FOEnwDgx5WuVBLI+YL81ri1JA1i6pxPOGH/fkyd84lS/XRCHR3UAkL8362+Vmlznjp3VeicP25SKXXD8XtZZvkk74uiQagOaWrOetYx2NmczflELApt0ypzknzfXlm8lqVrt/GH5xZ5ynZHQUUVqvK92bar2ZMewu823DI9/6zdMu61JWrtzbLCjfz8orccwq6+Jgv4lqw68kiOv68kzvX+S6G5BKXDf/CtZfTs1I4e9XW8tmQtU2atZMqslR7zrNDw8zfVCbAI2wxkZ/LyDdtZbvu4UinYpdAgwtCSFXOp3Nz18odcddpI5fFuS0SxCa0QLbQ3CsUExHBgPnCw/d15qv3sv/CerN0c9+1NpdypqlUaRH7beX9/k+d/eBTnSTMx/VA1VGeTn0OyVDrUZgqcvw6RO027hmFG4/V1XpW+W32tp1P1c9pNX9ioVMeXrS/stGbaSc2embcqd+7n56/mxJH9cvH/EBw9okKu5yl/fIknLy6MqfAb9e9wpb12mw0dzUxVls55MaoJe6qZ90kwZ8VGbn7+fd/9P/iPN3RUiVXYVpxLDnufgyajpYrsd/OhlA8rKJV7JUhKg/gBIp3FjU49pP3HVLxGSeFzg+XNLQob0zE3BpsA3Cz4ZLMn7Xfj5p0eu38lGNq7E7OWbwzdOfvhjDxLTnWRSiHfNPlMTh0vuudt5Slk9dwJC3Rf2y8encMtLyzOLa0K0a9VrtcHjVv5rZTkLYyADfPqO2khOtRmtHTUcrUrPSApB3cAQxRkDcgCTvuTN0daaAFRZEDRFHLAIfsLVIOrYnN0opCUk/p2hKYwwf67G9iCyKf0+VhqlBCyBpH28VJbVnnK3NfueI1nJXPRo++uYPRVz5RxVi8PXTCOLh2E/P9IykUflNNFhYW47jAmJqWGpHDsu1+YSrbtT6Q0HarcOUGo6iLPVQgjKMMMDh0NYuyePcJWryySmMXv8LdvjS1+kA/REvzJGr9lbw/3+2LPNqwG4TmvogL3KWZcl0pSTupbAWdoOx74NUJIbETkQaoa3A3rl4/Pyy3MI5O1ypfWd7y0xDcSx03D5CmhF6SRCTq/HHpYjD+/8D57XvYEW3YUH/Go7s1NzyzkOWnilYa8ewB0UJi8wN9clrUsTtivb+Cx67bu4tdPBueuDDspMWtZkZYRLQe/Rah0UM417nmZf/SePFxbKqc6t3d/VqFVqFi0eguv+/iMps5dxX/fL22+btztPS4fRDEBkUGk2gb4EkIoPAD8L941HKoGdyjkZkkNzJapQYCI3Q4jIICSnNMQbN9UheoF4STtkzURFaozr1eYMtyj2TiXoWzoWZ/7fNMzeVORn5nIsryjRNWo8i/Ty8/88sBby1i1SX+n/cUxg7SXGba9l8tcaTJoU0uWY298IfR6GhAcYVXq++g3IJk6J3gRsdDnT0iDyJD3UxwLPO/aF37lj1ZA2Ps7e/lGHlFMeoqtwBIJMnHIZpiwhFmiNKwZw61phJ3hXQruvv73rognP1OCheVZYzmuRGhOFbYWWZej0vTt0p7+PjPJ40KXgJAnWX6yaUeoKCA3Qeuk7CzRV+T3XvxIkbepFJLyQdyLWNDnEcSa1C/a2/dGmJmqhrD3N2y0UjHitgdn0qmKr5/wYgj1emHIkdqDb6vXO640qvQP4E2wlkOhQSwqEoNeLrpdAyny4Z+6iEtAyPdOLsfvHXjo7WW+neqCgDYc1aeVq0eIyLdySCrVxtXADxGT444gP+5NA9+Np0rJoHPh9VWbdviW5qwbXS7pVCqyM7oYYUJGrwiZKmFzCH9GJfAzJfkni/NepxyyWGm0u45TKWp9cmbFRU1M5cn3TvZ1+HXo3//3u7y4SD3geePD9crtUHok35rN6ijFUp3eMkkm63tVsS384q6tBJ2juPmfbPad/SrnlimVdCrlWaylEnTtUJtbYc6PoBmiuvEbufl1HBaWZ02Q2NEsIdKp6tEgiuGnQQJs2hE9zLdUc+MDb1UuYklF0sn6qh7dar5f3925XW1Fzp9OBb8cpVJMOEC4FOS68FtQviVrKU0M81ZuYlGRmcuVxk973atIIr9SSZFi4Sq91xibgJBunawxBifJi16cjmVvSyGuWhkBoQnVDOOzP93g2danSzvPtlKIw8QUlhmL4lkfvBQ+XLs1tySom+ZsVtlBzA0ZnlpJ/AYn8uJV4/etzLK6SQzmVVl+/fjyp+Ql6v2RhaucZj2oQ49jAJUUcZmYjICwcfKtxMWVp+7v2da9vs6T7vmY4ZXxQWTSqciziCtF5FXAYsQvT9Hz81ezdK03ukWe5a6DsK/2iP6dK1JezMuPKImSVmJChHdA7hdlf1HQIGljQjPJY1mHvMpMTBcjZmPPQb3Y0I8R2WPfsY9rQaQXj4W4R42fauhO5/Ze09HKjTu8ay+kU5w5NvwIyo9UCv545sHFD6wQA7t10FZWWHp1UqfZBvj5I3NyWTrdlLL6mJtSTClhQxQrNaGu3GssxgBFCG0UAdE+QoruYj6BIA2i1OzI5bJ2S+XT6lSTBjESOBeRGXYUcAreSXfXA6Ptv8sQobbBCxqUwaQ/vFj8oDLIpFNKtX7TjiZPzp50KlWRFziTTrHfgC5lnycMh+zRnatO82pISVOss1ZNnirXxvzDE/aN/JuwlsBMOk1dgK2me31l/FduvjN+r8i/GdjdO1jwexY9OnqFePsIgRrF+sWdzf4BB5WKIIpKHOV+6VNDKn5OSEZAjABeA7YBzYjO/4yA489EzMdotQgBoXhBLO/IKpUKl+itGJXMFFm8LP1O/jCUspRrEk7IbNaio09KEDfFrke1etqQHvWebVFuSymDFVVIq99pVNpTFA2iGLe84G/ujJrpt1JUutw3fnYchw8Nt6xqVJIQELMRa1L3BOqBSYCfTaUeOBGR3kPFecBMYGZj4+7jGJVJp1KowsBbspbnxREaRPllVko+jBxYXAtJkUo0EZwfmRJCOX0n0AWwZ6+8H6mU25BOhRPoxUJT+3XxmnbGKOzdqjUgguoWlVqFBuB3fQMUpslKCoitAWtMJCUgKq3Zxxl0kISAmAdcB0wFnkL4Gfye4meA/+JvXroNGAOM6d27MhEecZBJq81Gndt7p6GIxYqiPXHVu1fK6FmFvFiOX/m7Y/RfKZOz/vGqeu2GIG7+ykGRf+MmnQ43KFi2flvghM6Lj9uHe849tPDcIdvBQxeM4+hh3neoFJ+Kygzmd57PH+LNC1XuXKDO7Wv4wfHFTX1Oypwzx8ZjnvHjj2eW115k4pxjkpST+g7gEESG2PX4T7z7Mq3cvASis1Y9wv/9zH6eFzidij76P1SRLrpSJqYwiwSJonY/CaErnHP/AV3L+n0mlSIdorLFcoCdcuAAxg3tVbAt7C04aIg6kKIUE1M7RQcf5TTlCoi6TJpP792r6HFO5OL+mnx1AHv0rFfe53II03ZKPndsZw7GiWMbgvA/3KM4pitwFCIPVKsm7eOD6NK+1vPipHyESRCqkXJYAXHGwQMD919zxgFFz5FOpbRpEHIq7iDiSu/gRg5ZlG3qE/cvXt90St0+hvUtDGst1nGqRpLK9b19hLmqxbhPecdZYwLLd1DV00+jVZnkghzxYajJqINC/FAJtLgYs0flgzHj9DcmJSAeAOYCjwEXAhuA8+0/h9MRZqhoqRh3QyzL8n2IXh9E9FGbUsVUbPrppOGebSOLjH4behafzeu39nUctItgn9aR3kF+rieO7Ffw/S9fL+xU+yomQn7nqL2U7eN0SXhfNCF6hv0oMlLV7Nz1OnZEX+rrMlx64jDPcZMOyF+3qoP3a/+qZlOuBlGTTkd6hyrp8yhGHH15pczJKpISEEcC+yHCXJ+zt91q/znchTAxtXqenbfad0TjNTGFe9ju8MBalfNS8eadN36oZ5sqysVNmOqkUyn27tOp+IEVIMroshwBcVTIWcvy89q7T/BkNlmQjhzYhWNH9M3NND7CZRqRX/xTRw0o+P3iayaFqGHxe3BtgJbo3EInE8Dcq07kgqO9gsqt96o6ePd9crddVRRTJUb0UZ68Tg0ijq48TkXZzKQOYGC3Drz78xMqci6/EY1qHkQY3BErqt/4Rbycc8SeBd+H9KwPvMaw9RnWz9sxXnaSV2MBdex7WKJMFitnYHXB0V5hqqJcLcXpWDvawQBOmO2lJw7znFu2NfuVPPvKifnfqMYOPtqearvTbotqiK5y5DUZQHRindqJa+zgGrHHYWIqWDI4BFG00iDKnSxaalOqRg2iVdC5fQ1d62sr4uz0PYdqHkSI8tzvlepl6NhOHX2kcpB1DZhgFebS/V5Gv86zQ5kv5GMXHRHquPeWlb5kSVgTRfeIwk7uD51bNMjW5BwB0bGuxtNm0qlUQSoQvyp2cj171THynAtnWVaVDAjb0bqPUg1O0qkUN35xFFCYzkT2h5x/1NCyna5h3yGHSmgQ3xm/F4999whu+Wq47AUvXjqBX0uam0qwhqEafRCtAmd0UwkHrF+j93QC6XBhro5q/q1P7+npiA8Y6O9XiNoGw7S9qO2znPacSsEBg8qLGqokP5s0wnefyucj4wii339pNFd8Zr9cvqWsZXnaTCaV4r7zD/f8NghV5/HVw/bIff7ZpBGccuAAQG3ucapQbL0Ut1lJVWYmncoNDNztVS6yWwmzweV3KGqYh1tAnLh/v4Aj/enbpT09OtZx0gH9A49zbs3gHvWe8Fp32PuFE8JpsFCdUUytAuelGG6bT8pJZeD3DOW8LMXCXM8cO5j7zj+cP555EKcfNFB0QgpHtx9hR8b3n384Zx2+R8mdkIr9+ndh0gH9+MmJxTtOP0odZUUlbH4k1VwWB8fnM/mk4bSvTfPE9470HOM8q+4d6/jmp/fM3e+s5X1WqTQM6l7P1aeP5Fuf3lM+lRL5yXRuX1NwD88dv1euwy5VgzhmeB/Oc6XkUD0i92ncJhE/jeqCo4fy92+PLVo2QI1UYCqldjwP79eZzgrN2j1h7qxxhRmWw6Zcd1/f5Sf7DxqChFfXDvn+5ct26oxiZqu4AzGqal3pSuP0Ec5D2KdPZ17/sLSUUH4d7UfrCrNPpl1hrp87eFDBQiOjBnXl12ccmPt+05dGi3N7C/Oth9zx+R05pqEHYxrUIXly1JLfOeQ+tkuHGv781UOYWeI9hOAO2c3gHh34eF3pGXrDKo1hXtDzjxrK+UepR4SqVCvgRL5JZdk7v3poXgMY3q+zMqdUQ896Ju7fz5N+I7DDV/og/A93uPObn1LW069ct1NVnoHvtP5LIwwiatMp3MOsFKKtyYwe3I2Ljtmbi+55u2C7O8CiriZNbSbFlaeO5CuHDuHLt73iSbuuwn19I/qXNq+iriZDt/ragmi1Yvc/7kA9o0EE4DRd5yEpZyyHfEKhbbkuDWLfvp348NqTc/va1aht97LwcVdJjlIqNxy1e32tRyCE1UqckWs5JqYjQkyAGje0Jy9eekzphQCDFAnnVJ181Ayr8v0PimKTR5uqNvTUJeOV5bzw4wlcNmmE514HaWAqM1KUcNHcnBqVicm1zZmf8qUxgz33o5S2Ib+DqVSqYDTuPrd8D+vrMgVBE+kULLp6El85NNrs6rD1DjrulAP7887PT+CcI/cquC9fDahL3DnXjIAIwDPaVjyL/3zncO9GBWH7EXc2V/l1DSuM3Ec99l3h0D18r/KTec3/5Ym8+tNjvaYPn2rJnWw+OqW0Rj2kRz3jQgiI4f3Kmxl73Ii+StVelW+q7CgmH/NgVqFB+IUzqhajyp+v8CR1AfmcggYPfvvmXpWPmLr+86OYc+VEZVt3VyOVgjlXTlROwiylw5OFXgq/wZR3Al2NlAZHvsyw2kDYWvsJ6FlXnFAQOecI63QqxVWnjfQ9X9wmJiMgAnAai/NydFFEAO3dpxMPXjCu6LnC2s7dJqawo325ibhfsq4darnn3EP5/ZnCHFWOAtG+NkO7moyiPPXx8qSxXp0KJ4ntF1EVV5kNZLrX1zLZJ7zW4ZELP130HKqRsyrtSPRUFMGDDufZZRWZfv06zxmXTuDZH6g1CfkXsr2+oGauqjm2d+fZ+q106I5Iy6RTdGxX49F8hFZcuK1juxoy6ZRnENZJ8hG8/tNjefLivO9m/i9P9NTB46T1eSTisMKdm3Y0B/70spP8/QmFP4ymRTu8eOkEXvrJBDq3L2xzTsffq1NdoBCo1Br2fhgBEYHvKEwMtZkUBw/p7vuCgnBShhcQ5FppscgRB7ltyt/HDe1Fn85i3kQlZjz7dVwP/E+hoHQ3+BP378fPP7MfkDfLRB39hIlOOWrf3rmX5oyD1GlEimXTlMM0R9lRU0HRbHd/a2xRwaPC64NwBIQ3069fvHuvTu18J+jJnWdQRlh3ezt0T6Fx1tWkufELo/jXeWpNWSUg/R6r6vY57fHcI/fk8pNH8DkpeV+fLu0Z0b8Lv/vSaF740dG0r814wnRlM5/fFYqUJj47bUZKEYB1NWmP0FKR8vl8+zfG8NnRA3Lfa2sKKzC4Rz2Dunsnqw7qXs+1ZxzgmYkv097H7FwpjIAIYM3mnQXf29WkPUuHOvbUoBm0e/fupJ7trKA2k851hM7L4+fg9CNoVOsndO785hh+GCIDpihALk/8f8ge3XNmJTlS6exPN+TmZjjCMuqSqGHkyU9dEST7+4T71mbSgbHvcg6nU0cLQZO1LO785hjlb4/atzejBncD4Jen7c+NXxhVvLIEOan990VB/k3QJDS/wcPnDhkUaRKYLJQCTVf2/+1rM5xz5F6+g4bPHjSQhl7qiCKVD0JFmAl0qoFcmPvud95jhvfJtQuAdhGi8L48dkjRJXDb1RoNIjFk9RO8fokwTspMOpVT7fsrlmN006E242mQ4/cRdvewSdaCauTEvMscM7wv3z12H47cpxenjS485vyjhhZEegQ5qZ2JXrJ5yX1MnT2KipyPP8Sb6mhKACqZ7IQsu80WxYrJzQWwLI4Z3pcpinBVN18/vMEzEo5aVjZr5Saw5Y+NLiFkravYmhK6cfw6pdZqr94dvRq0z7EpSktLEUbT9Xs0qVTh708drX7/SiXuNCFGQJRJmEkq6XSKbnZUxWmjg7OniolyAkcY7WGPnCb6TOLxRjH516lYzqS/f/tQfv/lwnz1k08azrM/OMpVnlS+6/OWnUKoOlEkY/bwLlhTlxEdX9SlF90O1jAvhurZOPcq6B797ZWlhedx+QWg+D0MolgU02F2MMEhDd3pV2QwEQavUzYoiimPMygJmnTpX6b63u5pJ350Z+R17kcU4feFMfn1xepcGreDf2cdfa0VgM8fXFzYu8+6h0vTSaXymXq/cuiQorm6ohL3vKA2LyCCJkQ5NuyCmP8SRnGZlHDezb1qIpdO9GbClHGbGUBMlpl95US+KU3iyR3v8/u4CAq/HG2r00F2W2cuw4ERZ0T3deWfeu8Kb/4o2YEZZB8Pe4/27NUxFyocdtJUFOQO/Mh9ejP7yomMG9qr7JQk4L3OoNHwcFc+rZMO6M/sKydy4KBuvsf74VfEkJ71zL5yIl9zzeSWQ8nD8PNT9uNpO7z3oCHdFAMWfxNTUDmqFfkAfjppRMGqgX7ndhjYrUPBIMKxMoRZWyUqQUEHFTl/rGdvBQStQRw0gvvs6AGcLyV069WpHWu27PQcm8+IGe5253wQrm1hHGW530d42UoRJp6gEdf3W752CEvXbg2MrujesY7HLjqCoX068sSsTwrOG/QOuWfHtqvJ0LdLO1ZtEve7Jp3yzJ4NCrcME0759CXj6dulHd3q67j//MM5eIhXG4qKd+awtx6dcr6afCTLP8451HNcGFQLUvlx8bH78Mfn3/fUIypBt9ZzzpyJKXxDTKdTDOvXmYcv/DQj+ndm4k0zQpWvWndjrL3Y1jPfH++JsnOXFxRKLMosPO+DF4xj+frtud9DPOudx20xbPMahJ+ZY1D3Dnzv2H18f9elQ60n3v6hC8YpUycHmaEevGAc9557WME2WYMoimeUGO9jDTJpdWpXo1xhTX5pDxjUtUBgdm5Xw9lF0kfIUTzuEZ+qU1B1vs62oE7sx7aWN6xfZ7rVi0lUYxp6xJLzJqgeznOsr6speW6HfPogwVip0WiUuQzZnIkpejmjB3cTYddhJ6EqynGCKvbp2zly4kX53G66tK/NzaFw7kdLDIumxL0oVpsXEE3N6of2zXENgQuJqJ714B71SidUkFp/8JDuHD60cBJbzgcRNsxVap61ITuyrx46hL16RbenR3GKh30lZl05ke8dsw9nHDTQN+eV3EH/4cyDPA71guOVGkSq4H8Vg4uskVFJgupRU4GRp58wv/VrB3OFHXacJE4bL0f0BgVNFG73Cq+wZp9iMiju5+jkpZJnVce9aGJSAuJiYDYwB7jE55ijgXfsY6bHVZGmrFqDWL3ZayoKg0pVjjw71JlJXWJ7ChupcvXpB5Q2KvaYmPzPcdExIq/Mvn2LO+e61tfy2y+N9jXFyQPcPXp25JrTD7Cr5O+QduNcbmBCw6I1FetqRPWhgNfnFVSPPl3a0b42zU+KTPwLws8HceLI/nwzZMK/qERp71YZGkSOgKCJgu2plKec5rACokirCNrrvGPlWJiO3Kc3H157sscXErcGkYQPYiRwLjAW2AU8BTwOvO86phvwZ+BE4CPya1hXnF6d2tGxLsPWXS0F21dv2lHS+dSmjojnsP8PbWGKEKlSCaI4xScM61OQT6ocVBPFcptCmphSAfuicPkp5Y2+Uyn1XAc37WoyzP/lSWWVU8pcCscuX3qZ4Y89fGhP/vzCYj7lkxgyDH7tsV+X9qzbuitnRk6lvG1IlT5FWUZRDcJ/3352CvdjRZTZogAAEwlJREFUhodbpTC4HEkjrMJsriOA1wAnjel04AzgN65jvgI8iBAOAKu11c6mxdVuRg3uytyVm+jaobakhhJ5xnBOQoQd3RQSd6x7UHLASnDQkG4s3+DNxBr0Mqj2BJuY/MuPMwrMeaK16TS7WrLxJ1tLyd+Dy1vwqxNDrVA2on8X5q3cpNwXJdLvyH16M/eqiaEDOMKU53x98ScTyFoWwy5/ChAhsfLckrBmn1GDugUuQBUcWt657Gt0kEupRif1bMSa1D2BemASMFg6Zl+gO/AC8CbwDZ9znQfMBGY2NjaWXbGHLhiXM1m4RxZXnLo/j110BIN71OeiMFTZIqEyJiZVFFMUYtcgPCp9ZVvpDV8YxePf9a4ap9YI/Mt2H+8sf5oLcw34XaWvR4UToRR7SLJUQLHBSruaTChn9b+/cxhTv69OLxN1wFBux+n1iYktYsZ8XiDUpNOeaKSwAuJ/T9mPv37DP+1FsedYCeEA3nsbd0BKEhrEPOA6YCqwFeFnaJGOqQEOAY4FOgCvAK8CC6XjbrP/6N27d8kWPucl2rtPJ1ZuFKYlt624XU0mt4rZZ0cPZPOOZr48VpZpzrm820rWIEo8PmoK6qh4JnuV0Ub/+o0xnvkF7Wsznpw4UN59dNIdOJ1H8KJKkYqJhHPvRCfcErsG4TdTu1y6tK9VJq8UZcYvYAvLC/7uUJNJeeoWVkDU1aRzOblUxP0cc+XIqwxWqZP6DoQAGA+sx9vxLwOeRgiQNcAMIFxymxL493cO49wj96RTu/w6wD6+a9LpFGeNa/Bfm0GxrdSUvOGzuRaeX386hdLLO36/vgztHRxJ5Qi8oJdQtcud7kN2hgaeK7A2lUGbBhFiTYmKl6m5+XlmUvscV5tJ0dCzI185dAi/sCO4wjqpA09M/Gm3c1WQbm41OqlBOJ1XA0MQ/ofDpP2PADcj6lcHHArcFFdl9h/QNRe7786mWQrq2Pto58g7qcPVQT5OV2N1iLu4TDpFc9ZSjpaC7pFbiO83oAuZdCoXVZWUD2K7HQzhvNi7mw+iMmUmq0H4PcDaTJpMOsU1px/AS4vWANFCT4NMj7reOdUa9nGSlIB4AOGDaAIuBDYA59v7bkWYoZ4C3gOywO0I30XsOLe71JC0sBO2Jgzzj2iIPFFO/n2R/ekU9O8aPjtnMeI2adWkU+xEHcXk5KL5ytg9PPvcdO1Qy+JrJuW+B5tB4rseJ6LGmTQVvw+i8HvccfMQ/4DBj/a1aXY0ZX2f3iGuvGDOfYgkIAKuK+53IFcH2VpQpQJClQ7zVun79fafVpzOPOyi9TKqjkceXSz81UmBI469bJPLXkVML1Hq4GbBr06qaBcYt6PMGSWpRku1mTQLfnUitT51GNq7I4sVawon5YPIlZGrR9waRAImJi1GOi/1dTXsaNrl+/zceaWcrL9RkhEGXVXcI/lcOZo1wjafi0nG6WdKNTEpzyk9xGKrQJ00sh8PXTAul/iuGFGrWukMkLE7ylLBPgg/fxDAgxd82ic/VkLDXJvc+tyay61KH4RdoLPWRZjZ0Xv36cRjFx3B8P7hs6sGrrMSQxoNFfLzi/vdMwJCIu+DqNw5o0ffpDgoQmI4uapxv6DyyxB/7iennOgX1rVDre8C9r7lRS4lOs61xJ2NsxKLDkVFexST/b+zeM6ulnAv7wERZ8IHXdWGbU2RzlUqfjPj48IICIl87v/4NIi40a3ixz2KcV6+St7H4Iio+O+fE2kWdqXBUpEvJYaEoh50+yCca3Q0iGYpAedlJw1Xhk1HJajNxJGpNUwdjIlJM/nVwyp4Ts3BxLpV/Lg1CIdKCu0gtIS52vcs9gVfEjClJRXF5GgQ8lK2qrXkSyvIf5empqmY12IEhFbi0CDCpC7o1amOnVGX4LSRq6q7S9AVwaELHf2b077inrOSxKNJah5EXW6t83h666DriiOVtwqvD8IICK30sRcJL2WpRT/CPMTXfnpc2Y6uTDpFS9ZKQINofQLCqfPhe/XklQ/Wai/fGeXWxW2fS0CDSGomtROsIGsQFSsnYJ+zrkTc6NYg2vx6EDL79O3MlO8dwY9CLA0aljAhcJl0qmyHZX45zXgbjSzG4hYQE/fvW/ygiNRm0jzz/fHc+vVDPPt0DAadUW78JqbC7zq67qTGC46JKdLs6AgEvVdH7N0rljJlTBTTboBqRbRyiFvKO7OJRTmWdhNTGBNaOQzsJhbwqXQx+/Tt7HFoQulJEqPgjHJjz7ybwJwE3WU6pTmz09dt3RVrOcp9unIxaXZSGw1CA3F3oLly8qlKtVJsXke5xDkiVb1gOpzhukxMSYzm9UcxiQKXrNmit+AE8K4HbwREqyf2IB+7P8utt6xZQsg59iuNY6KL47pU75cOE5MTkBC3cE1iPqD+iXLi/7ic07sT3nkQ8ZZnBIQG4tYgnNfCMVeETfJXKeQc+5UmzrunHoHFf/+22Un7OlZonQA/dDuMkyjTKa2cVelaC/K9jd2HFevZDUD8Tlwn+ikXbhp3/yadv0NtvAJCNzo0iH37ijxbQ/uUlm8rLEvWePNQxY3+eRCivDEN4bMPlFZOrKcPhXxv4xYQxkmtgbhHVFnJxBQ3uqOYdKND/zpv/FBG9O9c8YAImQ8a9dvldbeGvJM67jkl4vxO1tgkkC8x7pn4RoOoAnImpnSq4Hts5UlDbF0mBV0jOB0aRCZd+Wg5FZ7FdDTcw6QyB8QdEda+NsMtXz2Ye86Vl6/Rh4liMkTG6bAzjg8i5h5OPnvcCoRu16NuH45OdAi/JPweoCfly0kH9M9Npk0CeU6VERCGojgvva5wWm9qj3jLdRKhJXV9hmjoNzE5UW6aykvQGVHrERDxlpeUgLgYsULcHOASxf6jgY3AO/bfz/VVrXKccdBAreU5o4u4Ozh5hB13I93RJCJ+nJmycaMrKaAO5L5Mi4lJfzIm8Z+mYpP0uNVKYdHVuOToSOBcYCywC7G06OPA+9JxLwKn6K1aZbnxi6O4/gujYi/H6bCdEXb8PghpQ8xvjDNnoH3AwkCVpIrkQyIkJB+0zf9JMppJdsRX40S5EcBrwDagGZgOnJFAPWInlUppifDJ2gEVGU0ahJx1Nu4RY/d6seBPz051sZbjUE0+CPnRqBZPqjRJpfvWp0EkaGKSwlrj7l6S0CBmA1cDPYHtwCRgpuK4w4F3gRXAjxDmKJnz7D8aGxvjqGuroDAXk37iLveHJwxj376dOWZ4n1jLcahWDeKyk4Zz2uj4zZ5JpfvW54PQVJACr4CoPhPTPOA6YCqwFeFjaJGOeQvYA9iCECAPA/soznWb/Ufv3r2r9LUujtOhOUEcukfAcb8w7WszfGHM4HgLcVGtAqJiC+cUQXuyPlcW48tPHhF6LfeSy4v17MHI8x6q1Ul9B3AIMB5YDyyU9m9CCAeAJ4BaQE8+3VbILjvxW84HobmDi6uR/uTE4Ry5j/7HXk3yIQlzSFLzJlMpOOfIvRgTd8qNRH0Q+S67V6c6JsSsVSclIJyrGoLwP9wj7e9H/jGMRdRT/6ourYQXFgjz2tyVmxKqQTxvzP8cPZS/f/vQWM4dRNzzSEBfxz1xZD8t5biJO7JGJqdB6CovQQnhXGt9XYaZlx9Pn87tYy0vqVQbDyB8EE3AhcAG4Hx7363A54H/QTixtwNfproGdrGQVDbLKsu0UVUN7fgRYrElncvCak/37fggqmxGvwonEEVXKHZSAuJIxbZbXZ9vtv8MJaBjBOwmyYlDlWTCsN5MW9BYVRIi75fSR6d28UdKudGvQSRHWrMZ2cykrkJ092/VokH0tlMo6Bid6ZKp+Q5FX6vQEUrrxhmgaAtzTXBApCthc648TeUYqpgkbbKVxLkOHS/fpAP6ayhFX3oSN+01zXh3yE2UawMzqfPZEqrbxGSIEd1RTFViYcpdh477F3cef4dUCob368wFE/bWUh7oT/+e1Ap2SaDbxGQERBWiex5EUhP0Kk1OQFSREyKVSvHUJeO1likLiM8dPCjW8pzOUluqDbucdCq/FosudJuYjICoIvYf0IU5KzZpb7RVIh9wjAdxjs56dWrHmi074ytgN8AtID689mR9BWv2Utek07k5SLpIa45iMj6IKmBIj3oAzhw7BEhiolx1SIh+XURMebf6+Jysz/3wKF697NjYzr87UKN7xSDNOM09iZUUjYnJEJn7zz+cuSs3sWLDDntLdaXa0MUFE4YypGcHTo7Rgdy1Q632KB/d6O43tS8oZRdYk0nx+PlHaG3/uu9tdYv6NkKfLu05elifXEPNatJ6B3QVI+5qCXOtzaQ5/aBBVTOvIymSun+6Sm22zUo16RQjB3bVsnSsg25t3WgQVYTTdHQ5WfMpFUyHamg7dO1Qy/B+nfnRCcO0l20ERBVQl0nHnlFShXb7ZLWoDoZWje7MATWZtPbIMAfdr5wREDGw8OqTkinYMTFpel86thPNZ9uuZj0FGgwBtAXToG7HuPFBVBG6TUzD+nUGqieKyVBZ6jRNBmxL6BaCRoOoIhyxoKvDvvqzB3DM8D6MHKjPSWdoHdx77mEM7tEh6WpULbrkhBEQVUTWti3pyr/ToS7DKQcO0FKWoXVx+NCe2stsK3rszyaN4AhNC2kZAVFFNNsCQveCLa2d848ayo4medVbg2H35Nzxe2krywiIKsKZfm9Mv9GYfNLwpKtgKINqXUN8dyCpruRiYDYwB7gk4LhPIVaV+7yOSrV2WjSZmLrHmIrCYDDsPiShQYwEzkWsNb0LeAp4HHhfOi4DXAdM1Vq7VkyLJhPT9EsnsLNJb5Iyg8EPE0QXH0loECOA14BtCO1gOnCG4rjvItauXq2vaq0bJ0a6fW0m1nK6tK/Nrb5mMCRNuxrRjSWRPK/aSUKDmA1cDfQEtgOTgJnSMQOB04EJCDOTH+fZfzQ2Nla8oq2NM8cOYeXGHVykcXEYgyFpfn3GgQx7eQmH76U/cqraSUrkfhu4ANiK8EPspNAXcR9wI/AqcBfCBHV/0AkPOeQQa+ZMWc4YDAaDIYhUKvUmMEa1L6kopjvsP4BrgGXS/jHAv+zPvRBaRjPwsJbaGQwGgyExAdEH4VsYgvA/HCbt39P12dEgjHAwGAwGjSQlIB5A+CCagAuBDcD59r5bE6qTwWAwGFwkJSCOVGzzEwzfjLMiBoPBYFBj5twaDAaDQYkREAaDwWBQYgSEwWAwGJQYAWEwGAwGJdU0N70RWFrG73sBaypUl9ZCW7vmtna9YK65rVDONe8B9K5gXaqStjgNu61dc1u7XjDX3FaI5ZqNiclgMBgMSoyAMBgMBoOSePNCtz7eTLoCCdDWrrmtXS+Ya24rtMVrNhgMBoPBYDAYDAaDwWAwGHZ3TgQWINbEnpxwXXQwGJgGzEUs1nRxstXRSgZ4G5E+vi3QDbHQ1nxgHnB4stXRwvcR7Xo2cC/QPtnqxMKdiOUSZru29QCeARbZ/3dPoF5VRwZYDOwF1AHvAvslWqP46Q8cbH/uDCyk+q/Z4QfAPbQdAXE3cI79uQ4hMKqZgcASoIP9/T9UZzbo8Yh32C0gfkN+gDsZuE53paqRw4GnXd8vs//aEo8AxyddCQ0MAp4DjqFtCIiuiM6ymrIlFGMg8DFiNF2DeM4nJFqj+GigUEAsQAz+sP9fUIlC2vo8CKdBOSyzt7UVGoCDgNeSrogGfgdcCmSTrogm9kSkn/k/hFntdqBjojWKn+XADcBHwEpgIzA10Rrpoy/imgE+sb+XTVsXEG2ZToiV/S4BNiVcl7g5BWGzbUtx4jUIM8QtiEHAVqrfx9YdOA0hHAcgBOLXEq1RMlj2X9m0dQGxHOG0dRhkb6t2ahHC4Z/AgwnXRQefBk4FPgT+hTAz/SPRGsXPMvvP0Q7vJ+97qlaOQ5jVGhHLGT8IjEu0RvpYRaGJaXWCdakaaoAPECMOx0m9f6I1ip8U8DeEyaUtcjRtwwcB8CIwzP58BXB9gnXRwaGICKZ6RDu/G/huojWKD9kHcT2FTurfaK9RlTIJEcmzGPhZwnXRwREI9fM94B37b1KiNdJLWxIQoxFZPt8DHqZthD5eiQjrnQ38HWiXbHVi4V6Ev6EJoSV+G+iJCMJYBDyLcNQbDAaDwWAwGAwGg8FgMBgMBoPBYDAYDAaDwWAwGAwGg8FgaJP0JB8m/AliguU7wBbgzwnWy2AwGAy7EVcAP0q6EgZDpWnrqTYMhkrjnoh3BWI274vAUuAMxAzXWcBTiJQnAIcA0xG5op4mnzLBYEgUIyAMhngZisj9dCoi/9M04ABgO3AyQkj8Efg8QlDcCVydSE0NBomapCtgMFQ5TyJSIsxCLFD1lL19FiKfzjBgJGIVMOxjVmIw7AYYAWEwxMtO+/8sQlBYru81iKRyc2gby4EaWhnGxGQwJMsCoDd5AVFL9WcUNrQSjIAwGJJlF8L/cB0i3fw7tJ01DAwGg8FgMBgMBoPBYDAYDAaDwWAwGAwGg8FgMBgMBoPBYDAYDAaDwWAwGAyGivD/19Myq+ZGwQEAAAAASUVORK5CYII=)"
      ]
    },
    {
      "cell_type": "markdown",
      "metadata": {
        "id": "Gq4mV5er8Mvy"
      },
      "source": [
        "Because of this, we actually initially thought that the measurement frequency was different between the noisy and normal data, especially, since noisy data is exactly half the length of normal data. But finally, we thought that if this were the case, it would have been either stated in the exercise brief or would be more obvious from the plots. We can also count 12 peaks in 10s in both graphs, which is a reasonable period for a SCG graph and confirms that the measurement frequency is same in both."
      ]
    },
    {
      "cell_type": "markdown",
      "metadata": {
        "id": "xtjOMGp4e6RO"
      },
      "source": [
        "# Data Segmentation \n",
        "* Here is a simple function to use for data segmentation\n",
        "* Segment the Z-axis signals into 5-second segments\n",
        "* The sampling frequency used to record these signals is 200 Hz.\n",
        "* Store the segments and the accompanying labels"
      ]
    },
    {
      "cell_type": "code",
      "metadata": {
        "ExecuteTime": {
          "end_time": "2021-10-06T13:53:52.644150Z",
          "start_time": "2021-10-06T13:53:52.638170Z"
        },
        "id": "XPFuvHuae6RO"
      },
      "source": [
        "#code (provided)\n",
        "\n",
        "def _slicing(sig, file_label, segment_length = 1000):\n",
        "    \n",
        "    \"\"\"\n",
        "    inputs:\n",
        "    sig : input array to be segmented\n",
        "    file_label : label to be applied to segmented signal\n",
        "    segment_length : Length in samples of the segments produced from the input signal\n",
        "    \n",
        "    outputs:\n",
        "    sig_sliced : a list of segments\n",
        "    label : a list of corresponding labels for the segmented signal \n",
        "    \n",
        "    \"\"\"\n",
        "\n",
        "    sig_sliced = []\n",
        "    label = []\n",
        "    \n",
        "    # slicing \n",
        "    \n",
        "    for i in np.arange(int(len(sig)/segment_length)):\n",
        "\n",
        "        sig_sliced.append( sig[i*segment_length:(i+1)*segment_length] )\n",
        "\n",
        "        label.append(file_label)\n",
        "        \n",
        "    return (sig_sliced , label)"
      ],
      "execution_count": 7,
      "outputs": []
    },
    {
      "cell_type": "markdown",
      "metadata": {
        "id": "oGcY10yqe6RP"
      },
      "source": [
        "\n",
        "# Feature Extraction Function Creation\n",
        "*  Define a function and name it “feature_extraction” in which you compute and return the features listed below\n",
        "    * *Time Domain Features*:  mean, standard deviation, interquartile-range, median, peak-to-peak range, skewness, kurtosis, and root mean square. \n",
        "    * *Frequency Domain Features*: power spectral density (using welch function of scipy)\n",
        "    \n",
        "        * For power spectral density, Calculate the total power spectral density within frequency bins of 4 Hz steps. Discard the frequencies above 40 Hz. Get the power within each bin.\n",
        "    \n",
        "        Hint:\n",
        "        \n",
        "        Reference: https://docs.scipy.org/doc/scipy/reference/stats.html for skewness, kurtosis, interquartile-range(iqr)\n",
        "        \n",
        "        Reference: https://numpy.org/doc/stable/reference/routines.statistics.html for other time domain features\n",
        "        \n",
        "        Reference: https://scikit-learn.org/stable/modules/generated/sklearn.preprocessing.scale.html for transforming to zero mean and unit variance\n",
        "\n"
      ]
    },
    {
      "cell_type": "code",
      "metadata": {
        "ExecuteTime": {
          "end_time": "2021-10-06T13:41:14.259449Z",
          "start_time": "2021-10-06T13:41:14.248903Z"
        },
        "id": "FsPgiHTJe6RP"
      },
      "source": [
        "#code\n",
        "def feature_extraction(sig, fs = 200):\n",
        "    \n",
        "    \n",
        "    \"\"\"\n",
        "    inputs:\n",
        "    sig : input array to extract features from\n",
        "    fs : sampling frequency of input array\n",
        "\n",
        "    \n",
        "    outputs:\n",
        "    feature_array: an array containing all the features extracted from the signal \n",
        "    \"\"\"\n",
        "    \n",
        "\n",
        "    feature_array = []\n",
        "    \n",
        "    ########################################## statistical features - time domain\n",
        "\n",
        "    # mean\n",
        "    feature_array.append(np.mean(sig))\n",
        "    # standard deviation \n",
        "    feature_array.append(np.std(sig))\n",
        "    # interquartile-range\n",
        "    a,b = np.percentile(sig, [75 ,25])\n",
        "    iqr = b-a\n",
        "    feature_array.append(iqr)\n",
        "    # median \n",
        "    feature_array.append(np.median(sig))\n",
        "    # peak-to-peak range\n",
        "    feature_array.append(np.ptp(sig))\n",
        "    # skewness\n",
        "    feature_array.append(stats.skew(sig))\n",
        "    # kurtosis\n",
        "    feature_array.append(stats.kurtosis(sig))\n",
        "    # root mean square\n",
        "    rms = np.sqrt(np.mean(sig**2))\n",
        "    feature_array.append(rms)\n",
        "\n",
        "\n",
        "    \n",
        "\n",
        "        \n",
        "    ########################################## PSD \n",
        "    \n",
        "    # transforming to zero mean and unit variance -- only do this when extracting PSD\n",
        "    # Hint: transformed_sig = function_for_scale(sig)\n",
        "\n",
        "\n",
        "    # zero mean and unit variance\n",
        "    transformed_sig = prep.scale(sig)\n",
        "    \n",
        "    # provided code\n",
        "    frequencies , PSD = welch(transformed_sig, fs=fs)\n",
        "    \n",
        "    freqs_arr = np.arange(0,41,4)\n",
        "    \n",
        "    PSD_binned_sum = [] \n",
        "    \n",
        "    for i in range(freqs_arr.shape[0]-1): \n",
        "        PSD_binned_sum.append (np.sum(PSD[np.where( (frequencies >= freqs_arr[i] ) & \n",
        "                                                   ( frequencies < freqs_arr[i+1] ) )]) )\n",
        "        \n",
        "    # append the results\n",
        "    for bins in PSD_binned_sum:\n",
        "      feature_array.append(bins)\n",
        "\n",
        "\n",
        "    # return the feature array\n",
        "    return feature_array\n"
      ],
      "execution_count": 14,
      "outputs": []
    },
    {
      "cell_type": "markdown",
      "metadata": {
        "id": "KY72g94re6RQ"
      },
      "source": [
        "# Feature Extraction Application\n",
        "\n",
        "* You must first segment your signals and then extract features from each segment. You could do it in the following way:\n",
        "\n",
        "\n",
        "\n",
        "* Call the _slicing function to section all the z-axis data into 5-second segments\n",
        "        Hint: Load each file in \"dataFiles\" with for-loop\n",
        "* Use the feature extraction function you created and extract features from every segment that you have obtained.\n",
        "* Store the labels and the features you extracted from each segment to numpy arrays. \n",
        "        Hint: Think of an easy way to extract the label \"noisy\" or \"normal\" from each file name\n",
        "        str.split() could be used somehow in this case"
      ]
    },
    {
      "cell_type": "code",
      "metadata": {
        "ExecuteTime": {
          "end_time": "2021-10-06T13:58:46.299478Z",
          "start_time": "2021-10-06T13:58:44.855565Z"
        },
        "scrolled": true,
        "id": "e2CRwIUae6RQ"
      },
      "source": [
        "# loop over data\n",
        "\n",
        "features = []\n",
        "\n",
        "for label in data:\n",
        "  # get signal and whether it is noisy or normal\n",
        "  signal = data[label]\n",
        "  new_label = label.split('_')[0]\n",
        "  \n",
        "  # do the segmentation\n",
        "  sliced_signal, sliced_label = _slicing(signal,new_label)\n",
        "\n",
        "  # Extraction\n",
        "\n",
        "  for s in sliced_signal:\n",
        "    features_for_sliced = feature_extraction(s, fs=fs)\n",
        "    features_for_sliced.append(new_label)\n",
        "    features.append(features_for_sliced)\n",
        "\n",
        "\n",
        "\n",
        "\n"
      ],
      "execution_count": 15,
      "outputs": []
    },
    {
      "cell_type": "code",
      "metadata": {
        "colab": {
          "base_uri": "https://localhost:8080/",
          "height": 444
        },
        "id": "gVuEr_GYY306",
        "outputId": "6fcbda45-da3e-4a93-fee5-d3f091807af4"
      },
      "source": [
        "df = pandas.DataFrame(features, columns = ['mean', 'std', 'iqr', 'median','ptp','skew', 'kurt', 'rms', 'bin1', 'bin2', 'bin3','bin4','bin5','bin6','bin7','bin8','bin9', 'bin10','type'])\n",
        "display(df)"
      ],
      "execution_count": 16,
      "outputs": [
        {
          "output_type": "display_data",
          "data": {
            "text/html": [
              "<div>\n",
              "<style scoped>\n",
              "    .dataframe tbody tr th:only-of-type {\n",
              "        vertical-align: middle;\n",
              "    }\n",
              "\n",
              "    .dataframe tbody tr th {\n",
              "        vertical-align: top;\n",
              "    }\n",
              "\n",
              "    .dataframe thead th {\n",
              "        text-align: right;\n",
              "    }\n",
              "</style>\n",
              "<table border=\"1\" class=\"dataframe\">\n",
              "  <thead>\n",
              "    <tr style=\"text-align: right;\">\n",
              "      <th></th>\n",
              "      <th>mean</th>\n",
              "      <th>std</th>\n",
              "      <th>iqr</th>\n",
              "      <th>median</th>\n",
              "      <th>ptp</th>\n",
              "      <th>skew</th>\n",
              "      <th>kurt</th>\n",
              "      <th>rms</th>\n",
              "      <th>bin1</th>\n",
              "      <th>bin2</th>\n",
              "      <th>bin3</th>\n",
              "      <th>bin4</th>\n",
              "      <th>bin5</th>\n",
              "      <th>bin6</th>\n",
              "      <th>bin7</th>\n",
              "      <th>bin8</th>\n",
              "      <th>bin9</th>\n",
              "      <th>bin10</th>\n",
              "      <th>type</th>\n",
              "    </tr>\n",
              "  </thead>\n",
              "  <tbody>\n",
              "    <tr>\n",
              "      <th>0</th>\n",
              "      <td>9.711774</td>\n",
              "      <td>0.081804</td>\n",
              "      <td>-0.081405</td>\n",
              "      <td>9.713264</td>\n",
              "      <td>0.699096</td>\n",
              "      <td>0.108662</td>\n",
              "      <td>3.500005</td>\n",
              "      <td>9.712119</td>\n",
              "      <td>0.046108</td>\n",
              "      <td>0.174086</td>\n",
              "      <td>0.296335</td>\n",
              "      <td>0.400615</td>\n",
              "      <td>0.200888</td>\n",
              "      <td>0.029019</td>\n",
              "      <td>0.022603</td>\n",
              "      <td>0.017033</td>\n",
              "      <td>0.018547</td>\n",
              "      <td>0.007665</td>\n",
              "      <td>Normal</td>\n",
              "    </tr>\n",
              "    <tr>\n",
              "      <th>1</th>\n",
              "      <td>9.719795</td>\n",
              "      <td>0.089429</td>\n",
              "      <td>-0.086182</td>\n",
              "      <td>9.720444</td>\n",
              "      <td>0.790085</td>\n",
              "      <td>0.436180</td>\n",
              "      <td>4.023571</td>\n",
              "      <td>9.720206</td>\n",
              "      <td>0.026663</td>\n",
              "      <td>0.130828</td>\n",
              "      <td>0.267302</td>\n",
              "      <td>0.352352</td>\n",
              "      <td>0.181175</td>\n",
              "      <td>0.032839</td>\n",
              "      <td>0.016245</td>\n",
              "      <td>0.009891</td>\n",
              "      <td>0.014035</td>\n",
              "      <td>0.013316</td>\n",
              "      <td>Normal</td>\n",
              "    </tr>\n",
              "    <tr>\n",
              "      <th>2</th>\n",
              "      <td>9.722783</td>\n",
              "      <td>0.086084</td>\n",
              "      <td>-0.076615</td>\n",
              "      <td>9.725235</td>\n",
              "      <td>0.804443</td>\n",
              "      <td>-0.191271</td>\n",
              "      <td>4.313126</td>\n",
              "      <td>9.723164</td>\n",
              "      <td>0.033984</td>\n",
              "      <td>0.130682</td>\n",
              "      <td>0.276083</td>\n",
              "      <td>0.376038</td>\n",
              "      <td>0.158867</td>\n",
              "      <td>0.038126</td>\n",
              "      <td>0.015604</td>\n",
              "      <td>0.010151</td>\n",
              "      <td>0.021854</td>\n",
              "      <td>0.014626</td>\n",
              "      <td>Normal</td>\n",
              "    </tr>\n",
              "    <tr>\n",
              "      <th>3</th>\n",
              "      <td>9.717692</td>\n",
              "      <td>0.080365</td>\n",
              "      <td>-0.076615</td>\n",
              "      <td>9.720444</td>\n",
              "      <td>0.713471</td>\n",
              "      <td>-0.077251</td>\n",
              "      <td>3.462521</td>\n",
              "      <td>9.718025</td>\n",
              "      <td>0.061487</td>\n",
              "      <td>0.153402</td>\n",
              "      <td>0.262302</td>\n",
              "      <td>0.240867</td>\n",
              "      <td>0.151591</td>\n",
              "      <td>0.022805</td>\n",
              "      <td>0.014450</td>\n",
              "      <td>0.011325</td>\n",
              "      <td>0.013540</td>\n",
              "      <td>0.017030</td>\n",
              "      <td>Normal</td>\n",
              "    </tr>\n",
              "    <tr>\n",
              "      <th>4</th>\n",
              "      <td>9.709634</td>\n",
              "      <td>0.074192</td>\n",
              "      <td>-0.086197</td>\n",
              "      <td>9.710876</td>\n",
              "      <td>0.641647</td>\n",
              "      <td>0.141326</td>\n",
              "      <td>2.566170</td>\n",
              "      <td>9.709918</td>\n",
              "      <td>0.058446</td>\n",
              "      <td>0.165820</td>\n",
              "      <td>0.261314</td>\n",
              "      <td>0.238084</td>\n",
              "      <td>0.154138</td>\n",
              "      <td>0.027642</td>\n",
              "      <td>0.021768</td>\n",
              "      <td>0.020709</td>\n",
              "      <td>0.018185</td>\n",
              "      <td>0.019588</td>\n",
              "      <td>Normal</td>\n",
              "    </tr>\n",
              "    <tr>\n",
              "      <th>...</th>\n",
              "      <td>...</td>\n",
              "      <td>...</td>\n",
              "      <td>...</td>\n",
              "      <td>...</td>\n",
              "      <td>...</td>\n",
              "      <td>...</td>\n",
              "      <td>...</td>\n",
              "      <td>...</td>\n",
              "      <td>...</td>\n",
              "      <td>...</td>\n",
              "      <td>...</td>\n",
              "      <td>...</td>\n",
              "      <td>...</td>\n",
              "      <td>...</td>\n",
              "      <td>...</td>\n",
              "      <td>...</td>\n",
              "      <td>...</td>\n",
              "      <td>...</td>\n",
              "      <td>...</td>\n",
              "    </tr>\n",
              "    <tr>\n",
              "      <th>70</th>\n",
              "      <td>9.312654</td>\n",
              "      <td>0.126381</td>\n",
              "      <td>-0.162812</td>\n",
              "      <td>9.314026</td>\n",
              "      <td>0.881073</td>\n",
              "      <td>-0.164037</td>\n",
              "      <td>0.673236</td>\n",
              "      <td>9.313511</td>\n",
              "      <td>0.334411</td>\n",
              "      <td>0.136884</td>\n",
              "      <td>0.136195</td>\n",
              "      <td>0.088351</td>\n",
              "      <td>0.062486</td>\n",
              "      <td>0.063801</td>\n",
              "      <td>0.029198</td>\n",
              "      <td>0.033663</td>\n",
              "      <td>0.049077</td>\n",
              "      <td>0.018496</td>\n",
              "      <td>Noisy</td>\n",
              "    </tr>\n",
              "    <tr>\n",
              "      <th>71</th>\n",
              "      <td>9.314445</td>\n",
              "      <td>0.126107</td>\n",
              "      <td>-0.153228</td>\n",
              "      <td>9.318817</td>\n",
              "      <td>0.919373</td>\n",
              "      <td>0.041819</td>\n",
              "      <td>0.721828</td>\n",
              "      <td>9.315298</td>\n",
              "      <td>0.284592</td>\n",
              "      <td>0.342779</td>\n",
              "      <td>0.189756</td>\n",
              "      <td>0.095298</td>\n",
              "      <td>0.093676</td>\n",
              "      <td>0.061238</td>\n",
              "      <td>0.033759</td>\n",
              "      <td>0.023074</td>\n",
              "      <td>0.035241</td>\n",
              "      <td>0.025486</td>\n",
              "      <td>Noisy</td>\n",
              "    </tr>\n",
              "    <tr>\n",
              "      <th>72</th>\n",
              "      <td>9.318343</td>\n",
              "      <td>0.108735</td>\n",
              "      <td>-0.138855</td>\n",
              "      <td>9.318817</td>\n",
              "      <td>0.833191</td>\n",
              "      <td>-0.092976</td>\n",
              "      <td>0.774256</td>\n",
              "      <td>9.318977</td>\n",
              "      <td>0.196035</td>\n",
              "      <td>0.180758</td>\n",
              "      <td>0.155679</td>\n",
              "      <td>0.058994</td>\n",
              "      <td>0.097761</td>\n",
              "      <td>0.082748</td>\n",
              "      <td>0.029286</td>\n",
              "      <td>0.015034</td>\n",
              "      <td>0.033514</td>\n",
              "      <td>0.016020</td>\n",
              "      <td>Noisy</td>\n",
              "    </tr>\n",
              "    <tr>\n",
              "      <th>73</th>\n",
              "      <td>9.314416</td>\n",
              "      <td>0.106062</td>\n",
              "      <td>-0.134079</td>\n",
              "      <td>9.314026</td>\n",
              "      <td>0.895431</td>\n",
              "      <td>-0.018417</td>\n",
              "      <td>0.803480</td>\n",
              "      <td>9.315020</td>\n",
              "      <td>0.111414</td>\n",
              "      <td>0.234541</td>\n",
              "      <td>0.149646</td>\n",
              "      <td>0.097602</td>\n",
              "      <td>0.086464</td>\n",
              "      <td>0.064677</td>\n",
              "      <td>0.036592</td>\n",
              "      <td>0.025207</td>\n",
              "      <td>0.046847</td>\n",
              "      <td>0.040934</td>\n",
              "      <td>Noisy</td>\n",
              "    </tr>\n",
              "    <tr>\n",
              "      <th>74</th>\n",
              "      <td>9.309700</td>\n",
              "      <td>0.106039</td>\n",
              "      <td>-0.124496</td>\n",
              "      <td>9.309235</td>\n",
              "      <td>0.670380</td>\n",
              "      <td>0.026646</td>\n",
              "      <td>0.344341</td>\n",
              "      <td>9.310303</td>\n",
              "      <td>0.213938</td>\n",
              "      <td>0.323847</td>\n",
              "      <td>0.126411</td>\n",
              "      <td>0.048682</td>\n",
              "      <td>0.152717</td>\n",
              "      <td>0.108683</td>\n",
              "      <td>0.061193</td>\n",
              "      <td>0.049597</td>\n",
              "      <td>0.048181</td>\n",
              "      <td>0.041032</td>\n",
              "      <td>Noisy</td>\n",
              "    </tr>\n",
              "  </tbody>\n",
              "</table>\n",
              "<p>75 rows × 19 columns</p>\n",
              "</div>"
            ],
            "text/plain": [
              "        mean       std       iqr  ...      bin9     bin10    type\n",
              "0   9.711774  0.081804 -0.081405  ...  0.018547  0.007665  Normal\n",
              "1   9.719795  0.089429 -0.086182  ...  0.014035  0.013316  Normal\n",
              "2   9.722783  0.086084 -0.076615  ...  0.021854  0.014626  Normal\n",
              "3   9.717692  0.080365 -0.076615  ...  0.013540  0.017030  Normal\n",
              "4   9.709634  0.074192 -0.086197  ...  0.018185  0.019588  Normal\n",
              "..       ...       ...       ...  ...       ...       ...     ...\n",
              "70  9.312654  0.126381 -0.162812  ...  0.049077  0.018496   Noisy\n",
              "71  9.314445  0.126107 -0.153228  ...  0.035241  0.025486   Noisy\n",
              "72  9.318343  0.108735 -0.138855  ...  0.033514  0.016020   Noisy\n",
              "73  9.314416  0.106062 -0.134079  ...  0.046847  0.040934   Noisy\n",
              "74  9.309700  0.106039 -0.124496  ...  0.048181  0.041032   Noisy\n",
              "\n",
              "[75 rows x 19 columns]"
            ]
          },
          "metadata": {}
        }
      ]
    },
    {
      "cell_type": "markdown",
      "metadata": {
        "id": "QEJVWIS3e6RR"
      },
      "source": [
        "# Standardize Features\n",
        "Hint:\n",
        "\n",
        "    Use sklearn.preprocessing.scale() to standardize the features\n",
        "    Reference: https://scikit-learn.org/stable/modules/generated/sklearn.preprocessing.scale.html"
      ]
    },
    {
      "cell_type": "code",
      "metadata": {
        "ExecuteTime": {
          "end_time": "2021-10-06T13:59:01.746425Z",
          "start_time": "2021-10-06T13:59:01.740041Z"
        },
        "id": "rAnRjCaNe6RR",
        "colab": {
          "base_uri": "https://localhost:8080/",
          "height": 444
        },
        "outputId": "41c869ce-4697-42c3-b121-acb7d9140c09"
      },
      "source": [
        "# standardize every column\n",
        "\n",
        "# remove labels since they can't be standardized\n",
        "df_label = df.pop('type')\n",
        "# standardize each column\n",
        "df_scaled = df.apply(lambda x: prep.scale(x), axis=0)\n",
        "# add the labels back\n",
        "df = pandas.concat([df_scaled, df_label], axis = 1)\n",
        "display(df)\n"
      ],
      "execution_count": 17,
      "outputs": [
        {
          "output_type": "display_data",
          "data": {
            "text/html": [
              "<div>\n",
              "<style scoped>\n",
              "    .dataframe tbody tr th:only-of-type {\n",
              "        vertical-align: middle;\n",
              "    }\n",
              "\n",
              "    .dataframe tbody tr th {\n",
              "        vertical-align: top;\n",
              "    }\n",
              "\n",
              "    .dataframe thead th {\n",
              "        text-align: right;\n",
              "    }\n",
              "</style>\n",
              "<table border=\"1\" class=\"dataframe\">\n",
              "  <thead>\n",
              "    <tr style=\"text-align: right;\">\n",
              "      <th></th>\n",
              "      <th>mean</th>\n",
              "      <th>std</th>\n",
              "      <th>iqr</th>\n",
              "      <th>median</th>\n",
              "      <th>ptp</th>\n",
              "      <th>skew</th>\n",
              "      <th>kurt</th>\n",
              "      <th>rms</th>\n",
              "      <th>bin1</th>\n",
              "      <th>bin2</th>\n",
              "      <th>bin3</th>\n",
              "      <th>bin4</th>\n",
              "      <th>bin5</th>\n",
              "      <th>bin6</th>\n",
              "      <th>bin7</th>\n",
              "      <th>bin8</th>\n",
              "      <th>bin9</th>\n",
              "      <th>bin10</th>\n",
              "      <th>type</th>\n",
              "    </tr>\n",
              "  </thead>\n",
              "  <tbody>\n",
              "    <tr>\n",
              "      <th>0</th>\n",
              "      <td>1.735744</td>\n",
              "      <td>-0.129223</td>\n",
              "      <td>0.466283</td>\n",
              "      <td>1.742617</td>\n",
              "      <td>0.019236</td>\n",
              "      <td>0.027256</td>\n",
              "      <td>0.869372</td>\n",
              "      <td>1.734967</td>\n",
              "      <td>-0.701278</td>\n",
              "      <td>-0.513384</td>\n",
              "      <td>1.637127</td>\n",
              "      <td>3.178487</td>\n",
              "      <td>2.467119</td>\n",
              "      <td>-0.845390</td>\n",
              "      <td>-0.707417</td>\n",
              "      <td>-0.776314</td>\n",
              "      <td>-0.642598</td>\n",
              "      <td>-0.989658</td>\n",
              "      <td>Normal</td>\n",
              "    </tr>\n",
              "    <tr>\n",
              "      <th>1</th>\n",
              "      <td>1.772977</td>\n",
              "      <td>0.059578</td>\n",
              "      <td>0.350555</td>\n",
              "      <td>1.775878</td>\n",
              "      <td>0.275830</td>\n",
              "      <td>1.033957</td>\n",
              "      <td>1.126677</td>\n",
              "      <td>1.772508</td>\n",
              "      <td>-0.857543</td>\n",
              "      <td>-0.859557</td>\n",
              "      <td>1.182644</td>\n",
              "      <td>2.604809</td>\n",
              "      <td>2.025036</td>\n",
              "      <td>-0.688735</td>\n",
              "      <td>-1.046762</td>\n",
              "      <td>-1.183153</td>\n",
              "      <td>-0.944003</td>\n",
              "      <td>-0.510477</td>\n",
              "      <td>Normal</td>\n",
              "    </tr>\n",
              "    <tr>\n",
              "      <th>2</th>\n",
              "      <td>1.786847</td>\n",
              "      <td>-0.023239</td>\n",
              "      <td>0.582325</td>\n",
              "      <td>1.798072</td>\n",
              "      <td>0.316320</td>\n",
              "      <td>-0.894659</td>\n",
              "      <td>1.268978</td>\n",
              "      <td>1.786237</td>\n",
              "      <td>-0.798710</td>\n",
              "      <td>-0.860725</td>\n",
              "      <td>1.320106</td>\n",
              "      <td>2.886355</td>\n",
              "      <td>1.524765</td>\n",
              "      <td>-0.471908</td>\n",
              "      <td>-1.080972</td>\n",
              "      <td>-1.168320</td>\n",
              "      <td>-0.421706</td>\n",
              "      <td>-0.399393</td>\n",
              "      <td>Normal</td>\n",
              "    </tr>\n",
              "    <tr>\n",
              "      <th>3</th>\n",
              "      <td>1.763217</td>\n",
              "      <td>-0.164853</td>\n",
              "      <td>0.582325</td>\n",
              "      <td>1.775878</td>\n",
              "      <td>0.059775</td>\n",
              "      <td>-0.544192</td>\n",
              "      <td>0.850950</td>\n",
              "      <td>1.762382</td>\n",
              "      <td>-0.577683</td>\n",
              "      <td>-0.678905</td>\n",
              "      <td>1.104386</td>\n",
              "      <td>1.279639</td>\n",
              "      <td>1.361608</td>\n",
              "      <td>-1.100214</td>\n",
              "      <td>-1.142548</td>\n",
              "      <td>-1.101452</td>\n",
              "      <td>-0.977111</td>\n",
              "      <td>-0.195488</td>\n",
              "      <td>Normal</td>\n",
              "    </tr>\n",
              "    <tr>\n",
              "      <th>4</th>\n",
              "      <td>1.725809</td>\n",
              "      <td>-0.317681</td>\n",
              "      <td>0.350192</td>\n",
              "      <td>1.731555</td>\n",
              "      <td>-0.142773</td>\n",
              "      <td>0.127656</td>\n",
              "      <td>0.410440</td>\n",
              "      <td>1.724749</td>\n",
              "      <td>-0.602127</td>\n",
              "      <td>-0.579534</td>\n",
              "      <td>1.088907</td>\n",
              "      <td>1.246556</td>\n",
              "      <td>1.418731</td>\n",
              "      <td>-0.901862</td>\n",
              "      <td>-0.752001</td>\n",
              "      <td>-0.566893</td>\n",
              "      <td>-0.666796</td>\n",
              "      <td>0.021416</td>\n",
              "      <td>Normal</td>\n",
              "    </tr>\n",
              "    <tr>\n",
              "      <th>...</th>\n",
              "      <td>...</td>\n",
              "      <td>...</td>\n",
              "      <td>...</td>\n",
              "      <td>...</td>\n",
              "      <td>...</td>\n",
              "      <td>...</td>\n",
              "      <td>...</td>\n",
              "      <td>...</td>\n",
              "      <td>...</td>\n",
              "      <td>...</td>\n",
              "      <td>...</td>\n",
              "      <td>...</td>\n",
              "      <td>...</td>\n",
              "      <td>...</td>\n",
              "      <td>...</td>\n",
              "      <td>...</td>\n",
              "      <td>...</td>\n",
              "      <td>...</td>\n",
              "      <td>...</td>\n",
              "    </tr>\n",
              "    <tr>\n",
              "      <th>70</th>\n",
              "      <td>-0.117011</td>\n",
              "      <td>0.974532</td>\n",
              "      <td>-1.505865</td>\n",
              "      <td>-0.106822</td>\n",
              "      <td>0.532421</td>\n",
              "      <td>-0.810947</td>\n",
              "      <td>-0.519839</td>\n",
              "      <td>-0.115311</td>\n",
              "      <td>1.615643</td>\n",
              "      <td>-0.811088</td>\n",
              "      <td>-0.869680</td>\n",
              "      <td>-0.533256</td>\n",
              "      <td>-0.636611</td>\n",
              "      <td>0.581001</td>\n",
              "      <td>-0.355422</td>\n",
              "      <td>0.171011</td>\n",
              "      <td>1.396835</td>\n",
              "      <td>-0.071234</td>\n",
              "      <td>Noisy</td>\n",
              "    </tr>\n",
              "    <tr>\n",
              "      <th>71</th>\n",
              "      <td>-0.108698</td>\n",
              "      <td>0.967744</td>\n",
              "      <td>-1.273708</td>\n",
              "      <td>-0.084628</td>\n",
              "      <td>0.640428</td>\n",
              "      <td>-0.178203</td>\n",
              "      <td>-0.495958</td>\n",
              "      <td>-0.107016</td>\n",
              "      <td>1.215280</td>\n",
              "      <td>0.836565</td>\n",
              "      <td>-0.031236</td>\n",
              "      <td>-0.450687</td>\n",
              "      <td>0.062828</td>\n",
              "      <td>0.475908</td>\n",
              "      <td>-0.111963</td>\n",
              "      <td>-0.432193</td>\n",
              "      <td>0.472552</td>\n",
              "      <td>0.521511</td>\n",
              "      <td>Noisy</td>\n",
              "    </tr>\n",
              "    <tr>\n",
              "      <th>72</th>\n",
              "      <td>-0.090604</td>\n",
              "      <td>0.537615</td>\n",
              "      <td>-0.925497</td>\n",
              "      <td>-0.084628</td>\n",
              "      <td>0.397391</td>\n",
              "      <td>-0.592526</td>\n",
              "      <td>-0.470193</td>\n",
              "      <td>-0.089940</td>\n",
              "      <td>0.503595</td>\n",
              "      <td>-0.459996</td>\n",
              "      <td>-0.564669</td>\n",
              "      <td>-0.882219</td>\n",
              "      <td>0.154440</td>\n",
              "      <td>1.358015</td>\n",
              "      <td>-0.350719</td>\n",
              "      <td>-0.890167</td>\n",
              "      <td>0.357218</td>\n",
              "      <td>-0.281124</td>\n",
              "      <td>Noisy</td>\n",
              "    </tr>\n",
              "    <tr>\n",
              "      <th>73</th>\n",
              "      <td>-0.108830</td>\n",
              "      <td>0.471417</td>\n",
              "      <td>-0.809794</td>\n",
              "      <td>-0.106822</td>\n",
              "      <td>0.572911</td>\n",
              "      <td>-0.363352</td>\n",
              "      <td>-0.455831</td>\n",
              "      <td>-0.108308</td>\n",
              "      <td>-0.176454</td>\n",
              "      <td>-0.029595</td>\n",
              "      <td>-0.659122</td>\n",
              "      <td>-0.423291</td>\n",
              "      <td>-0.098908</td>\n",
              "      <td>0.616920</td>\n",
              "      <td>0.039215</td>\n",
              "      <td>-0.310699</td>\n",
              "      <td>1.247853</td>\n",
              "      <td>1.831477</td>\n",
              "      <td>Noisy</td>\n",
              "    </tr>\n",
              "    <tr>\n",
              "      <th>74</th>\n",
              "      <td>-0.130725</td>\n",
              "      <td>0.470851</td>\n",
              "      <td>-0.577649</td>\n",
              "      <td>-0.129016</td>\n",
              "      <td>-0.061744</td>\n",
              "      <td>-0.224839</td>\n",
              "      <td>-0.681474</td>\n",
              "      <td>-0.130202</td>\n",
              "      <td>0.647476</td>\n",
              "      <td>0.685067</td>\n",
              "      <td>-1.022828</td>\n",
              "      <td>-1.004786</td>\n",
              "      <td>1.386848</td>\n",
              "      <td>2.421583</td>\n",
              "      <td>1.352284</td>\n",
              "      <td>1.078638</td>\n",
              "      <td>1.336950</td>\n",
              "      <td>1.839782</td>\n",
              "      <td>Noisy</td>\n",
              "    </tr>\n",
              "  </tbody>\n",
              "</table>\n",
              "<p>75 rows × 19 columns</p>\n",
              "</div>"
            ],
            "text/plain": [
              "        mean       std       iqr  ...      bin9     bin10    type\n",
              "0   1.735744 -0.129223  0.466283  ... -0.642598 -0.989658  Normal\n",
              "1   1.772977  0.059578  0.350555  ... -0.944003 -0.510477  Normal\n",
              "2   1.786847 -0.023239  0.582325  ... -0.421706 -0.399393  Normal\n",
              "3   1.763217 -0.164853  0.582325  ... -0.977111 -0.195488  Normal\n",
              "4   1.725809 -0.317681  0.350192  ... -0.666796  0.021416  Normal\n",
              "..       ...       ...       ...  ...       ...       ...     ...\n",
              "70 -0.117011  0.974532 -1.505865  ...  1.396835 -0.071234   Noisy\n",
              "71 -0.108698  0.967744 -1.273708  ...  0.472552  0.521511   Noisy\n",
              "72 -0.090604  0.537615 -0.925497  ...  0.357218 -0.281124   Noisy\n",
              "73 -0.108830  0.471417 -0.809794  ...  1.247853  1.831477   Noisy\n",
              "74 -0.130725  0.470851 -0.577649  ...  1.336950  1.839782   Noisy\n",
              "\n",
              "[75 rows x 19 columns]"
            ]
          },
          "metadata": {}
        }
      ]
    },
    {
      "cell_type": "markdown",
      "metadata": {
        "id": "fJz9xPl1e6RR"
      },
      "source": [
        "# Principal Component Analysis\n",
        "* Principal Component Analysis (PCA) is used to reduce the dimensionality of a data set consisting of many variables correlated with each other. This can then be used to visualize the data in a more practical way. \n",
        "* Compute the first and 2nd principal components\n",
        "* Plot the two components on a scatter plot with the coloring done by label\n",
        "* Are these features useful to seperate the two types of signals (noisy vs normal)?\n",
        "* Describe your observations.\n",
        "    \n",
        "        Hint:\n",
        "        my_pca=PCA(n_components=2)\n",
        "        pca_out = my_pca.fit_transform(input)"
      ]
    },
    {
      "cell_type": "code",
      "metadata": {
        "ExecuteTime": {
          "end_time": "2021-10-06T14:03:20.794904Z",
          "start_time": "2021-10-06T14:03:20.427399Z"
        },
        "id": "SKOvogn2e6RS",
        "colab": {
          "base_uri": "https://localhost:8080/",
          "height": 424
        },
        "outputId": "bb00c1c7-8249-43e5-ad20-cb41a334423f"
      },
      "source": [
        "pca = PCA(n_components=2)\n",
        "new_data = pca.fit_transform(df_scaled)\n",
        "\n",
        "# new dataframe\n",
        "\n",
        "pca_frame = pandas.DataFrame(new_data, columns = ['variable1', 'variable2'])\n",
        "pca_frame = pandas.concat([pca_frame, df_label], axis=1)\n",
        "display(pca_frame)"
      ],
      "execution_count": 18,
      "outputs": [
        {
          "output_type": "display_data",
          "data": {
            "text/html": [
              "<div>\n",
              "<style scoped>\n",
              "    .dataframe tbody tr th:only-of-type {\n",
              "        vertical-align: middle;\n",
              "    }\n",
              "\n",
              "    .dataframe tbody tr th {\n",
              "        vertical-align: top;\n",
              "    }\n",
              "\n",
              "    .dataframe thead th {\n",
              "        text-align: right;\n",
              "    }\n",
              "</style>\n",
              "<table border=\"1\" class=\"dataframe\">\n",
              "  <thead>\n",
              "    <tr style=\"text-align: right;\">\n",
              "      <th></th>\n",
              "      <th>variable1</th>\n",
              "      <th>variable2</th>\n",
              "      <th>type</th>\n",
              "    </tr>\n",
              "  </thead>\n",
              "  <tbody>\n",
              "    <tr>\n",
              "      <th>0</th>\n",
              "      <td>3.161058</td>\n",
              "      <td>-4.458501</td>\n",
              "      <td>Normal</td>\n",
              "    </tr>\n",
              "    <tr>\n",
              "      <th>1</th>\n",
              "      <td>3.424600</td>\n",
              "      <td>-3.961535</td>\n",
              "      <td>Normal</td>\n",
              "    </tr>\n",
              "    <tr>\n",
              "      <th>2</th>\n",
              "      <td>3.057553</td>\n",
              "      <td>-4.096508</td>\n",
              "      <td>Normal</td>\n",
              "    </tr>\n",
              "    <tr>\n",
              "      <th>3</th>\n",
              "      <td>3.013769</td>\n",
              "      <td>-3.238961</td>\n",
              "      <td>Normal</td>\n",
              "    </tr>\n",
              "    <tr>\n",
              "      <th>4</th>\n",
              "      <td>2.384383</td>\n",
              "      <td>-3.263651</td>\n",
              "      <td>Normal</td>\n",
              "    </tr>\n",
              "    <tr>\n",
              "      <th>...</th>\n",
              "      <td>...</td>\n",
              "      <td>...</td>\n",
              "      <td>...</td>\n",
              "    </tr>\n",
              "    <tr>\n",
              "      <th>70</th>\n",
              "      <td>0.124451</td>\n",
              "      <td>1.858853</td>\n",
              "      <td>Noisy</td>\n",
              "    </tr>\n",
              "    <tr>\n",
              "      <th>71</th>\n",
              "      <td>0.445539</td>\n",
              "      <td>1.353013</td>\n",
              "      <td>Noisy</td>\n",
              "    </tr>\n",
              "    <tr>\n",
              "      <th>72</th>\n",
              "      <td>0.173623</td>\n",
              "      <td>1.031456</td>\n",
              "      <td>Noisy</td>\n",
              "    </tr>\n",
              "    <tr>\n",
              "      <th>73</th>\n",
              "      <td>-0.917655</td>\n",
              "      <td>0.585081</td>\n",
              "      <td>Noisy</td>\n",
              "    </tr>\n",
              "    <tr>\n",
              "      <th>74</th>\n",
              "      <td>-2.556239</td>\n",
              "      <td>0.284850</td>\n",
              "      <td>Noisy</td>\n",
              "    </tr>\n",
              "  </tbody>\n",
              "</table>\n",
              "<p>75 rows × 3 columns</p>\n",
              "</div>"
            ],
            "text/plain": [
              "    variable1  variable2    type\n",
              "0    3.161058  -4.458501  Normal\n",
              "1    3.424600  -3.961535  Normal\n",
              "2    3.057553  -4.096508  Normal\n",
              "3    3.013769  -3.238961  Normal\n",
              "4    2.384383  -3.263651  Normal\n",
              "..        ...        ...     ...\n",
              "70   0.124451   1.858853   Noisy\n",
              "71   0.445539   1.353013   Noisy\n",
              "72   0.173623   1.031456   Noisy\n",
              "73  -0.917655   0.585081   Noisy\n",
              "74  -2.556239   0.284850   Noisy\n",
              "\n",
              "[75 rows x 3 columns]"
            ]
          },
          "metadata": {}
        }
      ]
    },
    {
      "cell_type": "code",
      "metadata": {
        "colab": {
          "base_uri": "https://localhost:8080/",
          "height": 295
        },
        "id": "LZPxZj79dcGb",
        "outputId": "f99a05a3-4b5f-4d46-ece8-f2cebca2f4bd"
      },
      "source": [
        "# plotting\n",
        "\n",
        "colors = {'Normal':'blue', 'Noisy':'red'}\n",
        "\n",
        "plt.scatter(pca_frame['variable1'], pca_frame['variable2'], c = pca_frame['type'].map(colors))\n",
        "plt.title(\"Noisy (red) and Normal (blue) data, with PCA\")\n",
        "plt.xlabel(\"PCA variable 1\")\n",
        "plt.ylabel(\"PCA variable 2\")\n",
        "plt.show()"
      ],
      "execution_count": 19,
      "outputs": [
        {
          "output_type": "display_data",
          "data": {
            "image/png": "[encoded data removed]",
            "text/plain": [
              "<Figure size 432x288 with 1 Axes>"
            ]
          },
          "metadata": {
            "needs_background": "light"
          }
        }
      ]
    },
    {
      "cell_type": "markdown",
      "metadata": {
        "id": "zj3O_XbOe6RS"
      },
      "source": [
        "# Observations "
      ]
    },
    {
      "cell_type": "markdown",
      "metadata": {
        "id": "181R_E9Ae6RS"
      },
      "source": [
        "PCA provides us with some level of separation between the noisy and normal data. The acquired data is not linearly separable, but there are some similarities between the noisy examples and normal examples. The normal ones have mostly positive values (from the new PCA variables), noisy ones have either variable1 < 0 or variable2 < 0. The noisy ones form two quite tight clusters, and if we knew more about the data, this could be further examined, for example the noise in the other cluster could be from different source than in the other cluster. "
      ]
    },
    {
      "cell_type": "markdown",
      "metadata": {
        "id": "HLWh4Bqq9uvI"
      },
      "source": [
        "There is also one question about ```sklearn.preprocessing.scale()``` . It seems to use \"population\" version of the standard deviation formula, and not the sample. We had a lot of discussion about which one to use here, but ended up using the one recommended, since we're not trying to generalize to a full set of datapoints etc."
      ]
    }
  ]
}